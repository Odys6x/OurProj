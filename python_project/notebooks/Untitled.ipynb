{
 "cells": [
  {
   "cell_type": "markdown",
   "id": "b8a4f538",
   "metadata": {},
   "source": [
    "# libraries"
   ]
  },
  {
   "cell_type": "code",
   "execution_count": 1,
   "id": "8a103700",
   "metadata": {},
   "outputs": [],
   "source": [
    "import pandas as pd\n",
    "import numpy as np\n",
    "import matplotlib.pyplot as plt\n",
    "import seaborn as sns\n",
    "import nltk\n",
    "plt.style.use('ggplot')"
   ]
  },
  {
   "cell_type": "code",
   "execution_count": 2,
   "id": "40c0aa98",
   "metadata": {},
   "outputs": [
    {
     "name": "stderr",
     "output_type": "stream",
     "text": [
      "[nltk_data] Downloading package punkt to\n",
      "[nltk_data]     C:\\Users\\quay\\AppData\\Roaming\\nltk_data...\n",
      "[nltk_data]   Package punkt is already up-to-date!\n",
      "[nltk_data] Downloading package averaged_perceptron_tagger to\n",
      "[nltk_data]     C:\\Users\\quay\\AppData\\Roaming\\nltk_data...\n",
      "[nltk_data]   Package averaged_perceptron_tagger is already up-to-\n",
      "[nltk_data]       date!\n",
      "[nltk_data] Downloading package maxent_ne_chunker to\n",
      "[nltk_data]     C:\\Users\\quay\\AppData\\Roaming\\nltk_data...\n",
      "[nltk_data]   Package maxent_ne_chunker is already up-to-date!\n",
      "[nltk_data] Downloading package words to\n",
      "[nltk_data]     C:\\Users\\quay\\AppData\\Roaming\\nltk_data...\n",
      "[nltk_data]   Package words is already up-to-date!\n",
      "[nltk_data] Downloading package vader_lexicon to\n",
      "[nltk_data]     C:\\Users\\quay\\AppData\\Roaming\\nltk_data...\n",
      "[nltk_data]   Package vader_lexicon is already up-to-date!\n"
     ]
    },
    {
     "data": {
      "text/plain": [
       "True"
      ]
     },
     "execution_count": 2,
     "metadata": {},
     "output_type": "execute_result"
    }
   ],
   "source": [
    "nltk.download('punkt')\n",
    "nltk.download('averaged_perceptron_tagger')\n",
    "nltk.download('maxent_ne_chunker')\n",
    "nltk.download('words')\n",
    "nltk.download('vader_lexicon')"
   ]
  },
  {
   "cell_type": "markdown",
   "id": "5451c136",
   "metadata": {},
   "source": [
    "# read csv to dataframe"
   ]
  },
  {
   "cell_type": "code",
   "execution_count": 3,
   "id": "30fe423e",
   "metadata": {},
   "outputs": [],
   "source": [
    "filepath = \"../data/raw/refined.csv\""
   ]
  },
  {
   "cell_type": "code",
   "execution_count": 4,
   "id": "0d9be722-860d-4756-8986-0b1c23659813",
   "metadata": {},
   "outputs": [],
   "source": [
    "filepath2 = \"../data/raw/refined_amen.csv\""
   ]
  },
  {
   "cell_type": "code",
   "execution_count": 5,
   "id": "7148fd09",
   "metadata": {},
   "outputs": [],
   "source": [
    "df = pd.read_csv(filepath)"
   ]
  },
  {
   "cell_type": "code",
   "execution_count": 6,
   "id": "4316c3e3-05fc-4b2d-b797-880de1bb3c2d",
   "metadata": {},
   "outputs": [],
   "source": [
    "df2 = pd.read_csv(filepath2)"
   ]
  },
  {
   "cell_type": "code",
   "execution_count": 7,
   "id": "3d80e809-d990-425b-9692-0475b8ff1da6",
   "metadata": {},
   "outputs": [
    {
     "data": {
      "text/plain": [
       "(192, 195)"
      ]
     },
     "execution_count": 7,
     "metadata": {},
     "output_type": "execute_result"
    }
   ],
   "source": [
    "# unique hotels in each df\n",
    "df['Name'].nunique(), df2['Name'].nunique()"
   ]
  },
  {
   "cell_type": "code",
   "execution_count": 8,
   "id": "052dada8-d620-412c-aa9b-4538afadca81",
   "metadata": {},
   "outputs": [
    {
     "name": "stdout",
     "output_type": "stream",
     "text": [
      "['Hotel Mi' 'Marina Bay Sands'\n",
      " 'PARKROYAL COLLECTION Marina Bay, Singapore'\n",
      " 'The Fullerton Hotel Singapore' 'D’Resort @ Downtown East'\n",
      " 'One Farrer Hotel']\n"
     ]
    }
   ],
   "source": [
    "# check for df not in df2\n",
    "names_not_in_df2 = ~df['Name'].isin(df2['Name'])\n",
    "names_not_present = df['Name'][names_not_in_df2].unique()\n",
    "print(names_not_present)"
   ]
  },
  {
   "cell_type": "code",
   "execution_count": 9,
   "id": "5c958e81-9f2f-43e5-b80f-1b082e5ea86c",
   "metadata": {},
   "outputs": [
    {
     "data": {
      "text/plain": [
       "(51709, 10)"
      ]
     },
     "execution_count": 9,
     "metadata": {},
     "output_type": "execute_result"
    }
   ],
   "source": [
    "df.shape"
   ]
  },
  {
   "cell_type": "code",
   "execution_count": 10,
   "id": "e41bc6c1-6ccd-4b35-b653-c6e9c1e7dae0",
   "metadata": {},
   "outputs": [
    {
     "data": {
      "text/html": [
       "<div>\n",
       "<style scoped>\n",
       "    .dataframe tbody tr th:only-of-type {\n",
       "        vertical-align: middle;\n",
       "    }\n",
       "\n",
       "    .dataframe tbody tr th {\n",
       "        vertical-align: top;\n",
       "    }\n",
       "\n",
       "    .dataframe thead th {\n",
       "        text-align: right;\n",
       "    }\n",
       "</style>\n",
       "<table border=\"1\" class=\"dataframe\">\n",
       "  <thead>\n",
       "    <tr style=\"text-align: right;\">\n",
       "      <th></th>\n",
       "      <th>Average_rating</th>\n",
       "      <th>Rating</th>\n",
       "    </tr>\n",
       "  </thead>\n",
       "  <tbody>\n",
       "    <tr>\n",
       "      <th>count</th>\n",
       "      <td>51699.000000</td>\n",
       "      <td>51709.000000</td>\n",
       "    </tr>\n",
       "    <tr>\n",
       "      <th>mean</th>\n",
       "      <td>4.039159</td>\n",
       "      <td>4.133284</td>\n",
       "    </tr>\n",
       "    <tr>\n",
       "      <th>std</th>\n",
       "      <td>0.497547</td>\n",
       "      <td>1.134692</td>\n",
       "    </tr>\n",
       "    <tr>\n",
       "      <th>min</th>\n",
       "      <td>2.500000</td>\n",
       "      <td>1.000000</td>\n",
       "    </tr>\n",
       "    <tr>\n",
       "      <th>25%</th>\n",
       "      <td>3.500000</td>\n",
       "      <td>4.000000</td>\n",
       "    </tr>\n",
       "    <tr>\n",
       "      <th>50%</th>\n",
       "      <td>4.000000</td>\n",
       "      <td>5.000000</td>\n",
       "    </tr>\n",
       "    <tr>\n",
       "      <th>75%</th>\n",
       "      <td>4.500000</td>\n",
       "      <td>5.000000</td>\n",
       "    </tr>\n",
       "    <tr>\n",
       "      <th>max</th>\n",
       "      <td>5.000000</td>\n",
       "      <td>5.000000</td>\n",
       "    </tr>\n",
       "  </tbody>\n",
       "</table>\n",
       "</div>"
      ],
      "text/plain": [
       "       Average_rating        Rating\n",
       "count    51699.000000  51709.000000\n",
       "mean         4.039159      4.133284\n",
       "std          0.497547      1.134692\n",
       "min          2.500000      1.000000\n",
       "25%          3.500000      4.000000\n",
       "50%          4.000000      5.000000\n",
       "75%          4.500000      5.000000\n",
       "max          5.000000      5.000000"
      ]
     },
     "execution_count": 10,
     "metadata": {},
     "output_type": "execute_result"
    }
   ],
   "source": [
    "df.describe()"
   ]
  },
  {
   "cell_type": "markdown",
   "id": "cae36663",
   "metadata": {},
   "source": [
    "# Data cleaning"
   ]
  },
  {
   "cell_type": "code",
   "execution_count": 11,
   "id": "aef971f0",
   "metadata": {},
   "outputs": [],
   "source": [
    "# rename columns\n",
    "df.columns = [x.replace(' ', '_') for x in df.columns]\n",
    "df.columns = [x.lower() for x in df.columns]"
   ]
  },
  {
   "cell_type": "code",
   "execution_count": 12,
   "id": "cad9af89",
   "metadata": {},
   "outputs": [
    {
     "name": "stdout",
     "output_type": "stream",
     "text": [
      "name                     0\n",
      "review_count            10\n",
      "average_rating          10\n",
      "overall_experience       0\n",
      "rating                   0\n",
      "title                   30\n",
      "comment_content          0\n",
      "date                    10\n",
      "hotel_class           2730\n",
      "good_to_know             0\n",
      "dtype: int64\n"
     ]
    }
   ],
   "source": [
    "# check for na \n",
    "print(df.isna().sum())"
   ]
  },
  {
   "cell_type": "markdown",
   "id": "4a20e251-b956-4e10-bc78-10df83937177",
   "metadata": {},
   "source": [
    "# Data wrangling"
   ]
  },
  {
   "cell_type": "markdown",
   "id": "f7c70532-2f04-4eb9-b9ea-51c36f6b0003",
   "metadata": {},
   "source": [
    "### create index"
   ]
  },
  {
   "cell_type": "code",
   "execution_count": 13,
   "id": "6407a1dd",
   "metadata": {},
   "outputs": [],
   "source": [
    "df.insert(0, 'index', df.index + 1)"
   ]
  },
  {
   "cell_type": "markdown",
   "id": "35d89fbf-e274-4d4e-9a0b-7ee2cdb243b5",
   "metadata": {},
   "source": [
    "### remove non english characters"
   ]
  },
  {
   "cell_type": "code",
   "execution_count": 14,
   "id": "013a59f8-66f5-420e-9acf-1685a965ec8a",
   "metadata": {},
   "outputs": [],
   "source": [
    "df['comment_content'] = df['comment_content'].apply(lambda x: x.encode('ascii', 'ignore').decode('utf-8'))"
   ]
  },
  {
   "cell_type": "code",
   "execution_count": 15,
   "id": "b721a846-b0b6-43b0-b1e9-16c83bb8007a",
   "metadata": {},
   "outputs": [],
   "source": [
    "# remove non english rows\n",
    "# df = df[df.comment_content.map(lambda x: x.isascii())]"
   ]
  },
  {
   "cell_type": "code",
   "execution_count": 16,
   "id": "8bed0e15",
   "metadata": {
    "scrolled": true
   },
   "outputs": [
    {
     "data": {
      "text/html": [
       "<div>\n",
       "<style scoped>\n",
       "    .dataframe tbody tr th:only-of-type {\n",
       "        vertical-align: middle;\n",
       "    }\n",
       "\n",
       "    .dataframe tbody tr th {\n",
       "        vertical-align: top;\n",
       "    }\n",
       "\n",
       "    .dataframe thead th {\n",
       "        text-align: right;\n",
       "    }\n",
       "</style>\n",
       "<table border=\"1\" class=\"dataframe\">\n",
       "  <thead>\n",
       "    <tr style=\"text-align: right;\">\n",
       "      <th></th>\n",
       "      <th>index</th>\n",
       "      <th>name</th>\n",
       "      <th>review_count</th>\n",
       "      <th>average_rating</th>\n",
       "      <th>overall_experience</th>\n",
       "      <th>rating</th>\n",
       "      <th>title</th>\n",
       "      <th>comment_content</th>\n",
       "      <th>date</th>\n",
       "      <th>hotel_class</th>\n",
       "      <th>good_to_know</th>\n",
       "    </tr>\n",
       "  </thead>\n",
       "  <tbody>\n",
       "    <tr>\n",
       "      <th>0</th>\n",
       "      <td>1</td>\n",
       "      <td>M Social Singapore</td>\n",
       "      <td>2,042 reviews</td>\n",
       "      <td>4.0</td>\n",
       "      <td>[4.2, 4.5, 4.2, 4.0]</td>\n",
       "      <td>5</td>\n",
       "      <td>\"Exceptional Experience at M Social Hotel”</td>\n",
       "      <td>I had a similarly extraordinary experience dur...</td>\n",
       "      <td>Date of stay: September 2023</td>\n",
       "      <td>4.0 of 5 stars</td>\n",
       "      <td>['', 'Boutique', 'Trendy', 'English, Chinese, ...</td>\n",
       "    </tr>\n",
       "    <tr>\n",
       "      <th>1</th>\n",
       "      <td>2</td>\n",
       "      <td>M Social Singapore</td>\n",
       "      <td>2,042 reviews</td>\n",
       "      <td>4.0</td>\n",
       "      <td>[4.2, 4.5, 4.2, 4.0]</td>\n",
       "      <td>5</td>\n",
       "      <td>Armando at the front desk</td>\n",
       "      <td>Armando of the front desk was kind enough to l...</td>\n",
       "      <td>Date of stay: September 2023</td>\n",
       "      <td>4.0 of 5 stars</td>\n",
       "      <td>['', 'Boutique', 'Trendy', 'English, Chinese, ...</td>\n",
       "    </tr>\n",
       "    <tr>\n",
       "      <th>2</th>\n",
       "      <td>3</td>\n",
       "      <td>M Social Singapore</td>\n",
       "      <td>2,042 reviews</td>\n",
       "      <td>4.0</td>\n",
       "      <td>[4.2, 4.5, 4.2, 4.0]</td>\n",
       "      <td>5</td>\n",
       "      <td>The best stay experience in Singapore</td>\n",
       "      <td>We spend two wonderful nights at M Social Sing...</td>\n",
       "      <td>Date of stay: September 2023</td>\n",
       "      <td>4.0 of 5 stars</td>\n",
       "      <td>['', 'Boutique', 'Trendy', 'English, Chinese, ...</td>\n",
       "    </tr>\n",
       "    <tr>\n",
       "      <th>3</th>\n",
       "      <td>4</td>\n",
       "      <td>M Social Singapore</td>\n",
       "      <td>2,042 reviews</td>\n",
       "      <td>4.0</td>\n",
       "      <td>[4.2, 4.5, 4.2, 4.0]</td>\n",
       "      <td>5</td>\n",
       "      <td>A much needed STAYCATION</td>\n",
       "      <td>I have been frequenting M Social every time I ...</td>\n",
       "      <td>Date of stay: September 2023</td>\n",
       "      <td>4.0 of 5 stars</td>\n",
       "      <td>['', 'Boutique', 'Trendy', 'English, Chinese, ...</td>\n",
       "    </tr>\n",
       "    <tr>\n",
       "      <th>4</th>\n",
       "      <td>5</td>\n",
       "      <td>M Social Singapore</td>\n",
       "      <td>2,042 reviews</td>\n",
       "      <td>4.0</td>\n",
       "      <td>[4.2, 4.5, 4.2, 4.0]</td>\n",
       "      <td>5</td>\n",
       "      <td>Super location super staff .</td>\n",
       "      <td>Excellent location great hotel... especially A...</td>\n",
       "      <td>Date of stay: September 2023</td>\n",
       "      <td>4.0 of 5 stars</td>\n",
       "      <td>['', 'Boutique', 'Trendy', 'English, Chinese, ...</td>\n",
       "    </tr>\n",
       "  </tbody>\n",
       "</table>\n",
       "</div>"
      ],
      "text/plain": [
       "   index                name   review_count  average_rating  \\\n",
       "0      1  M Social Singapore  2,042 reviews             4.0   \n",
       "1      2  M Social Singapore  2,042 reviews             4.0   \n",
       "2      3  M Social Singapore  2,042 reviews             4.0   \n",
       "3      4  M Social Singapore  2,042 reviews             4.0   \n",
       "4      5  M Social Singapore  2,042 reviews             4.0   \n",
       "\n",
       "     overall_experience  rating                                       title  \\\n",
       "0  [4.2, 4.5, 4.2, 4.0]       5  \"Exceptional Experience at M Social Hotel”   \n",
       "1  [4.2, 4.5, 4.2, 4.0]       5                   Armando at the front desk   \n",
       "2  [4.2, 4.5, 4.2, 4.0]       5       The best stay experience in Singapore   \n",
       "3  [4.2, 4.5, 4.2, 4.0]       5                    A much needed STAYCATION   \n",
       "4  [4.2, 4.5, 4.2, 4.0]       5                Super location super staff .   \n",
       "\n",
       "                                     comment_content  \\\n",
       "0  I had a similarly extraordinary experience dur...   \n",
       "1  Armando of the front desk was kind enough to l...   \n",
       "2  We spend two wonderful nights at M Social Sing...   \n",
       "3  I have been frequenting M Social every time I ...   \n",
       "4  Excellent location great hotel... especially A...   \n",
       "\n",
       "                           date     hotel_class  \\\n",
       "0  Date of stay: September 2023  4.0 of 5 stars   \n",
       "1  Date of stay: September 2023  4.0 of 5 stars   \n",
       "2  Date of stay: September 2023  4.0 of 5 stars   \n",
       "3  Date of stay: September 2023  4.0 of 5 stars   \n",
       "4  Date of stay: September 2023  4.0 of 5 stars   \n",
       "\n",
       "                                        good_to_know  \n",
       "0  ['', 'Boutique', 'Trendy', 'English, Chinese, ...  \n",
       "1  ['', 'Boutique', 'Trendy', 'English, Chinese, ...  \n",
       "2  ['', 'Boutique', 'Trendy', 'English, Chinese, ...  \n",
       "3  ['', 'Boutique', 'Trendy', 'English, Chinese, ...  \n",
       "4  ['', 'Boutique', 'Trendy', 'English, Chinese, ...  "
      ]
     },
     "execution_count": 16,
     "metadata": {},
     "output_type": "execute_result"
    }
   ],
   "source": [
    "df.head()"
   ]
  },
  {
   "cell_type": "markdown",
   "id": "1c36b73b-853d-40cb-af56-fb008e71907d",
   "metadata": {},
   "source": [
    "### create new columns for overall experience"
   ]
  },
  {
   "cell_type": "code",
   "execution_count": 17,
   "id": "34bbf292-612c-4b3a-8d62-40af717c5cdc",
   "metadata": {},
   "outputs": [],
   "source": [
    "df['overall_experience'] = df['overall_experience'].str.strip('[]')\n",
    "df['location'] = df['overall_experience'].str.split(',').str.get(0)\n",
    "df['cleanliness'] = df['overall_experience'].str.split(',').str.get(1)\n",
    "df['service'] = df['overall_experience'].str.split(',').str.get(2)\n",
    "df['value'] = df['overall_experience'].str.split(',').str.get(3)"
   ]
  },
  {
   "cell_type": "code",
   "execution_count": 18,
   "id": "1d4c2c8b-5248-452f-9736-ac3d7931a339",
   "metadata": {},
   "outputs": [
    {
     "data": {
      "text/html": [
       "<div>\n",
       "<style scoped>\n",
       "    .dataframe tbody tr th:only-of-type {\n",
       "        vertical-align: middle;\n",
       "    }\n",
       "\n",
       "    .dataframe tbody tr th {\n",
       "        vertical-align: top;\n",
       "    }\n",
       "\n",
       "    .dataframe thead th {\n",
       "        text-align: right;\n",
       "    }\n",
       "</style>\n",
       "<table border=\"1\" class=\"dataframe\">\n",
       "  <thead>\n",
       "    <tr style=\"text-align: right;\">\n",
       "      <th></th>\n",
       "      <th>index</th>\n",
       "      <th>name</th>\n",
       "      <th>review_count</th>\n",
       "      <th>average_rating</th>\n",
       "      <th>overall_experience</th>\n",
       "      <th>rating</th>\n",
       "      <th>title</th>\n",
       "      <th>comment_content</th>\n",
       "      <th>date</th>\n",
       "      <th>hotel_class</th>\n",
       "      <th>good_to_know</th>\n",
       "      <th>location</th>\n",
       "      <th>cleanliness</th>\n",
       "      <th>service</th>\n",
       "      <th>value</th>\n",
       "    </tr>\n",
       "  </thead>\n",
       "  <tbody>\n",
       "    <tr>\n",
       "      <th>0</th>\n",
       "      <td>1</td>\n",
       "      <td>M Social Singapore</td>\n",
       "      <td>2,042 reviews</td>\n",
       "      <td>4.0</td>\n",
       "      <td>4.2, 4.5, 4.2, 4.0</td>\n",
       "      <td>5</td>\n",
       "      <td>\"Exceptional Experience at M Social Hotel”</td>\n",
       "      <td>I had a similarly extraordinary experience dur...</td>\n",
       "      <td>Date of stay: September 2023</td>\n",
       "      <td>4.0 of 5 stars</td>\n",
       "      <td>['', 'Boutique', 'Trendy', 'English, Chinese, ...</td>\n",
       "      <td>4.2</td>\n",
       "      <td>4.5</td>\n",
       "      <td>4.2</td>\n",
       "      <td>4.0</td>\n",
       "    </tr>\n",
       "    <tr>\n",
       "      <th>1</th>\n",
       "      <td>2</td>\n",
       "      <td>M Social Singapore</td>\n",
       "      <td>2,042 reviews</td>\n",
       "      <td>4.0</td>\n",
       "      <td>4.2, 4.5, 4.2, 4.0</td>\n",
       "      <td>5</td>\n",
       "      <td>Armando at the front desk</td>\n",
       "      <td>Armando of the front desk was kind enough to l...</td>\n",
       "      <td>Date of stay: September 2023</td>\n",
       "      <td>4.0 of 5 stars</td>\n",
       "      <td>['', 'Boutique', 'Trendy', 'English, Chinese, ...</td>\n",
       "      <td>4.2</td>\n",
       "      <td>4.5</td>\n",
       "      <td>4.2</td>\n",
       "      <td>4.0</td>\n",
       "    </tr>\n",
       "    <tr>\n",
       "      <th>2</th>\n",
       "      <td>3</td>\n",
       "      <td>M Social Singapore</td>\n",
       "      <td>2,042 reviews</td>\n",
       "      <td>4.0</td>\n",
       "      <td>4.2, 4.5, 4.2, 4.0</td>\n",
       "      <td>5</td>\n",
       "      <td>The best stay experience in Singapore</td>\n",
       "      <td>We spend two wonderful nights at M Social Sing...</td>\n",
       "      <td>Date of stay: September 2023</td>\n",
       "      <td>4.0 of 5 stars</td>\n",
       "      <td>['', 'Boutique', 'Trendy', 'English, Chinese, ...</td>\n",
       "      <td>4.2</td>\n",
       "      <td>4.5</td>\n",
       "      <td>4.2</td>\n",
       "      <td>4.0</td>\n",
       "    </tr>\n",
       "    <tr>\n",
       "      <th>3</th>\n",
       "      <td>4</td>\n",
       "      <td>M Social Singapore</td>\n",
       "      <td>2,042 reviews</td>\n",
       "      <td>4.0</td>\n",
       "      <td>4.2, 4.5, 4.2, 4.0</td>\n",
       "      <td>5</td>\n",
       "      <td>A much needed STAYCATION</td>\n",
       "      <td>I have been frequenting M Social every time I ...</td>\n",
       "      <td>Date of stay: September 2023</td>\n",
       "      <td>4.0 of 5 stars</td>\n",
       "      <td>['', 'Boutique', 'Trendy', 'English, Chinese, ...</td>\n",
       "      <td>4.2</td>\n",
       "      <td>4.5</td>\n",
       "      <td>4.2</td>\n",
       "      <td>4.0</td>\n",
       "    </tr>\n",
       "    <tr>\n",
       "      <th>4</th>\n",
       "      <td>5</td>\n",
       "      <td>M Social Singapore</td>\n",
       "      <td>2,042 reviews</td>\n",
       "      <td>4.0</td>\n",
       "      <td>4.2, 4.5, 4.2, 4.0</td>\n",
       "      <td>5</td>\n",
       "      <td>Super location super staff .</td>\n",
       "      <td>Excellent location great hotel... especially A...</td>\n",
       "      <td>Date of stay: September 2023</td>\n",
       "      <td>4.0 of 5 stars</td>\n",
       "      <td>['', 'Boutique', 'Trendy', 'English, Chinese, ...</td>\n",
       "      <td>4.2</td>\n",
       "      <td>4.5</td>\n",
       "      <td>4.2</td>\n",
       "      <td>4.0</td>\n",
       "    </tr>\n",
       "  </tbody>\n",
       "</table>\n",
       "</div>"
      ],
      "text/plain": [
       "   index                name   review_count  average_rating  \\\n",
       "0      1  M Social Singapore  2,042 reviews             4.0   \n",
       "1      2  M Social Singapore  2,042 reviews             4.0   \n",
       "2      3  M Social Singapore  2,042 reviews             4.0   \n",
       "3      4  M Social Singapore  2,042 reviews             4.0   \n",
       "4      5  M Social Singapore  2,042 reviews             4.0   \n",
       "\n",
       "   overall_experience  rating                                       title  \\\n",
       "0  4.2, 4.5, 4.2, 4.0       5  \"Exceptional Experience at M Social Hotel”   \n",
       "1  4.2, 4.5, 4.2, 4.0       5                   Armando at the front desk   \n",
       "2  4.2, 4.5, 4.2, 4.0       5       The best stay experience in Singapore   \n",
       "3  4.2, 4.5, 4.2, 4.0       5                    A much needed STAYCATION   \n",
       "4  4.2, 4.5, 4.2, 4.0       5                Super location super staff .   \n",
       "\n",
       "                                     comment_content  \\\n",
       "0  I had a similarly extraordinary experience dur...   \n",
       "1  Armando of the front desk was kind enough to l...   \n",
       "2  We spend two wonderful nights at M Social Sing...   \n",
       "3  I have been frequenting M Social every time I ...   \n",
       "4  Excellent location great hotel... especially A...   \n",
       "\n",
       "                           date     hotel_class  \\\n",
       "0  Date of stay: September 2023  4.0 of 5 stars   \n",
       "1  Date of stay: September 2023  4.0 of 5 stars   \n",
       "2  Date of stay: September 2023  4.0 of 5 stars   \n",
       "3  Date of stay: September 2023  4.0 of 5 stars   \n",
       "4  Date of stay: September 2023  4.0 of 5 stars   \n",
       "\n",
       "                                        good_to_know location cleanliness  \\\n",
       "0  ['', 'Boutique', 'Trendy', 'English, Chinese, ...      4.2         4.5   \n",
       "1  ['', 'Boutique', 'Trendy', 'English, Chinese, ...      4.2         4.5   \n",
       "2  ['', 'Boutique', 'Trendy', 'English, Chinese, ...      4.2         4.5   \n",
       "3  ['', 'Boutique', 'Trendy', 'English, Chinese, ...      4.2         4.5   \n",
       "4  ['', 'Boutique', 'Trendy', 'English, Chinese, ...      4.2         4.5   \n",
       "\n",
       "  service value  \n",
       "0     4.2   4.0  \n",
       "1     4.2   4.0  \n",
       "2     4.2   4.0  \n",
       "3     4.2   4.0  \n",
       "4     4.2   4.0  "
      ]
     },
     "execution_count": 18,
     "metadata": {},
     "output_type": "execute_result"
    }
   ],
   "source": [
    "df.head()"
   ]
  },
  {
   "cell_type": "code",
   "execution_count": 19,
   "id": "83663318-3a4f-4834-9d27-8cd7e7f35da3",
   "metadata": {},
   "outputs": [],
   "source": [
    "# convert to float\n",
    "df['location'] = pd.to_numeric(df['location'])\n",
    "df['cleanliness'] = pd.to_numeric(df['cleanliness'])\n",
    "df['service'] = pd.to_numeric(df['service'])\n",
    "df['value'] = pd.to_numeric(df['value'])"
   ]
  },
  {
   "cell_type": "markdown",
   "id": "db0e095b-8447-4efd-849d-5b460b3baccc",
   "metadata": {},
   "source": [
    "### change x.x stars out of x.x to x.x for hotel_class"
   ]
  },
  {
   "cell_type": "code",
   "execution_count": 20,
   "id": "ffde24e5-a1df-4b3e-9a8f-a9ad1140a15a",
   "metadata": {},
   "outputs": [],
   "source": [
    "df['hotel_class'] = df['hotel_class'].str.extract('(\\d+\\.\\d+)', expand=False).astype(float)"
   ]
  },
  {
   "cell_type": "code",
   "execution_count": 21,
   "id": "7d8c8eed-2dd9-482b-a50f-f2aa9fcd237a",
   "metadata": {},
   "outputs": [
    {
     "data": {
      "text/html": [
       "<div>\n",
       "<style scoped>\n",
       "    .dataframe tbody tr th:only-of-type {\n",
       "        vertical-align: middle;\n",
       "    }\n",
       "\n",
       "    .dataframe tbody tr th {\n",
       "        vertical-align: top;\n",
       "    }\n",
       "\n",
       "    .dataframe thead th {\n",
       "        text-align: right;\n",
       "    }\n",
       "</style>\n",
       "<table border=\"1\" class=\"dataframe\">\n",
       "  <thead>\n",
       "    <tr style=\"text-align: right;\">\n",
       "      <th></th>\n",
       "      <th>index</th>\n",
       "      <th>name</th>\n",
       "      <th>review_count</th>\n",
       "      <th>average_rating</th>\n",
       "      <th>overall_experience</th>\n",
       "      <th>rating</th>\n",
       "      <th>title</th>\n",
       "      <th>comment_content</th>\n",
       "      <th>date</th>\n",
       "      <th>hotel_class</th>\n",
       "      <th>good_to_know</th>\n",
       "      <th>location</th>\n",
       "      <th>cleanliness</th>\n",
       "      <th>service</th>\n",
       "      <th>value</th>\n",
       "    </tr>\n",
       "  </thead>\n",
       "  <tbody>\n",
       "    <tr>\n",
       "      <th>0</th>\n",
       "      <td>1</td>\n",
       "      <td>M Social Singapore</td>\n",
       "      <td>2,042 reviews</td>\n",
       "      <td>4.0</td>\n",
       "      <td>4.2, 4.5, 4.2, 4.0</td>\n",
       "      <td>5</td>\n",
       "      <td>\"Exceptional Experience at M Social Hotel”</td>\n",
       "      <td>I had a similarly extraordinary experience dur...</td>\n",
       "      <td>Date of stay: September 2023</td>\n",
       "      <td>4.0</td>\n",
       "      <td>['', 'Boutique', 'Trendy', 'English, Chinese, ...</td>\n",
       "      <td>4.2</td>\n",
       "      <td>4.5</td>\n",
       "      <td>4.2</td>\n",
       "      <td>4.0</td>\n",
       "    </tr>\n",
       "    <tr>\n",
       "      <th>1</th>\n",
       "      <td>2</td>\n",
       "      <td>M Social Singapore</td>\n",
       "      <td>2,042 reviews</td>\n",
       "      <td>4.0</td>\n",
       "      <td>4.2, 4.5, 4.2, 4.0</td>\n",
       "      <td>5</td>\n",
       "      <td>Armando at the front desk</td>\n",
       "      <td>Armando of the front desk was kind enough to l...</td>\n",
       "      <td>Date of stay: September 2023</td>\n",
       "      <td>4.0</td>\n",
       "      <td>['', 'Boutique', 'Trendy', 'English, Chinese, ...</td>\n",
       "      <td>4.2</td>\n",
       "      <td>4.5</td>\n",
       "      <td>4.2</td>\n",
       "      <td>4.0</td>\n",
       "    </tr>\n",
       "    <tr>\n",
       "      <th>2</th>\n",
       "      <td>3</td>\n",
       "      <td>M Social Singapore</td>\n",
       "      <td>2,042 reviews</td>\n",
       "      <td>4.0</td>\n",
       "      <td>4.2, 4.5, 4.2, 4.0</td>\n",
       "      <td>5</td>\n",
       "      <td>The best stay experience in Singapore</td>\n",
       "      <td>We spend two wonderful nights at M Social Sing...</td>\n",
       "      <td>Date of stay: September 2023</td>\n",
       "      <td>4.0</td>\n",
       "      <td>['', 'Boutique', 'Trendy', 'English, Chinese, ...</td>\n",
       "      <td>4.2</td>\n",
       "      <td>4.5</td>\n",
       "      <td>4.2</td>\n",
       "      <td>4.0</td>\n",
       "    </tr>\n",
       "    <tr>\n",
       "      <th>3</th>\n",
       "      <td>4</td>\n",
       "      <td>M Social Singapore</td>\n",
       "      <td>2,042 reviews</td>\n",
       "      <td>4.0</td>\n",
       "      <td>4.2, 4.5, 4.2, 4.0</td>\n",
       "      <td>5</td>\n",
       "      <td>A much needed STAYCATION</td>\n",
       "      <td>I have been frequenting M Social every time I ...</td>\n",
       "      <td>Date of stay: September 2023</td>\n",
       "      <td>4.0</td>\n",
       "      <td>['', 'Boutique', 'Trendy', 'English, Chinese, ...</td>\n",
       "      <td>4.2</td>\n",
       "      <td>4.5</td>\n",
       "      <td>4.2</td>\n",
       "      <td>4.0</td>\n",
       "    </tr>\n",
       "    <tr>\n",
       "      <th>4</th>\n",
       "      <td>5</td>\n",
       "      <td>M Social Singapore</td>\n",
       "      <td>2,042 reviews</td>\n",
       "      <td>4.0</td>\n",
       "      <td>4.2, 4.5, 4.2, 4.0</td>\n",
       "      <td>5</td>\n",
       "      <td>Super location super staff .</td>\n",
       "      <td>Excellent location great hotel... especially A...</td>\n",
       "      <td>Date of stay: September 2023</td>\n",
       "      <td>4.0</td>\n",
       "      <td>['', 'Boutique', 'Trendy', 'English, Chinese, ...</td>\n",
       "      <td>4.2</td>\n",
       "      <td>4.5</td>\n",
       "      <td>4.2</td>\n",
       "      <td>4.0</td>\n",
       "    </tr>\n",
       "  </tbody>\n",
       "</table>\n",
       "</div>"
      ],
      "text/plain": [
       "   index                name   review_count  average_rating  \\\n",
       "0      1  M Social Singapore  2,042 reviews             4.0   \n",
       "1      2  M Social Singapore  2,042 reviews             4.0   \n",
       "2      3  M Social Singapore  2,042 reviews             4.0   \n",
       "3      4  M Social Singapore  2,042 reviews             4.0   \n",
       "4      5  M Social Singapore  2,042 reviews             4.0   \n",
       "\n",
       "   overall_experience  rating                                       title  \\\n",
       "0  4.2, 4.5, 4.2, 4.0       5  \"Exceptional Experience at M Social Hotel”   \n",
       "1  4.2, 4.5, 4.2, 4.0       5                   Armando at the front desk   \n",
       "2  4.2, 4.5, 4.2, 4.0       5       The best stay experience in Singapore   \n",
       "3  4.2, 4.5, 4.2, 4.0       5                    A much needed STAYCATION   \n",
       "4  4.2, 4.5, 4.2, 4.0       5                Super location super staff .   \n",
       "\n",
       "                                     comment_content  \\\n",
       "0  I had a similarly extraordinary experience dur...   \n",
       "1  Armando of the front desk was kind enough to l...   \n",
       "2  We spend two wonderful nights at M Social Sing...   \n",
       "3  I have been frequenting M Social every time I ...   \n",
       "4  Excellent location great hotel... especially A...   \n",
       "\n",
       "                           date  hotel_class  \\\n",
       "0  Date of stay: September 2023          4.0   \n",
       "1  Date of stay: September 2023          4.0   \n",
       "2  Date of stay: September 2023          4.0   \n",
       "3  Date of stay: September 2023          4.0   \n",
       "4  Date of stay: September 2023          4.0   \n",
       "\n",
       "                                        good_to_know  location  cleanliness  \\\n",
       "0  ['', 'Boutique', 'Trendy', 'English, Chinese, ...       4.2          4.5   \n",
       "1  ['', 'Boutique', 'Trendy', 'English, Chinese, ...       4.2          4.5   \n",
       "2  ['', 'Boutique', 'Trendy', 'English, Chinese, ...       4.2          4.5   \n",
       "3  ['', 'Boutique', 'Trendy', 'English, Chinese, ...       4.2          4.5   \n",
       "4  ['', 'Boutique', 'Trendy', 'English, Chinese, ...       4.2          4.5   \n",
       "\n",
       "   service  value  \n",
       "0      4.2    4.0  \n",
       "1      4.2    4.0  \n",
       "2      4.2    4.0  \n",
       "3      4.2    4.0  \n",
       "4      4.2    4.0  "
      ]
     },
     "execution_count": 21,
     "metadata": {},
     "output_type": "execute_result"
    }
   ],
   "source": [
    "df.head()\n"
   ]
  },
  {
   "cell_type": "code",
   "execution_count": 22,
   "id": "b85a6628-430d-4298-8dba-52b148fca132",
   "metadata": {},
   "outputs": [
    {
     "data": {
      "text/plain": [
       "index                   int64\n",
       "name                   object\n",
       "review_count           object\n",
       "average_rating        float64\n",
       "overall_experience     object\n",
       "rating                  int64\n",
       "title                  object\n",
       "comment_content        object\n",
       "date                   object\n",
       "hotel_class           float64\n",
       "good_to_know           object\n",
       "location              float64\n",
       "cleanliness           float64\n",
       "service               float64\n",
       "value                 float64\n",
       "dtype: object"
      ]
     },
     "execution_count": 22,
     "metadata": {},
     "output_type": "execute_result"
    }
   ],
   "source": [
    "df.dtypes"
   ]
  },
  {
   "cell_type": "code",
   "execution_count": 23,
   "id": "37ca0128-6f9c-463b-bff4-4d7721904175",
   "metadata": {},
   "outputs": [
    {
     "data": {
      "text/plain": [
       "index                   int64\n",
       "name                   object\n",
       "review_count           object\n",
       "average_rating        float64\n",
       "overall_experience     object\n",
       "rating                  int64\n",
       "title                  object\n",
       "comment_content        object\n",
       "date                   object\n",
       "hotel_class           float64\n",
       "good_to_know           object\n",
       "location              float64\n",
       "cleanliness           float64\n",
       "service               float64\n",
       "value                 float64\n",
       "dtype: object"
      ]
     },
     "execution_count": 23,
     "metadata": {},
     "output_type": "execute_result"
    }
   ],
   "source": [
    "df.dtypes"
   ]
  },
  {
   "cell_type": "code",
   "execution_count": 24,
   "id": "b75797d1-71d9-4b11-9681-63989be3f583",
   "metadata": {},
   "outputs": [
    {
     "name": "stdout",
     "output_type": "stream",
     "text": [
      "index                    0\n",
      "name                     0\n",
      "review_count            10\n",
      "average_rating          10\n",
      "overall_experience       0\n",
      "rating                   0\n",
      "title                   30\n",
      "comment_content          0\n",
      "date                    10\n",
      "hotel_class           2730\n",
      "good_to_know             0\n",
      "location               210\n",
      "cleanliness            210\n",
      "service                210\n",
      "value                  360\n",
      "dtype: int64\n"
     ]
    }
   ],
   "source": [
    "print(df.isna().sum())"
   ]
  },
  {
   "cell_type": "code",
   "execution_count": 25,
   "id": "3ecadc5f-b80d-4ea2-8dc3-8737ecc14345",
   "metadata": {
    "scrolled": true
   },
   "outputs": [
    {
     "data": {
      "text/plain": [
       "array(['Pan Pacific Orchard', 'Hotel 81 Gold',\n",
       "       'Holiday Inn Express & Suites Singapore Novena, an IHG Hotel',\n",
       "       'Mandarin Oriental, Singapore', 'K2 Guest House', 'Spacepod@SG'],\n",
       "      dtype=object)"
      ]
     },
     "execution_count": 25,
     "metadata": {},
     "output_type": "execute_result"
    }
   ],
   "source": [
    "# hotels with NA experience ratings\n",
    "value_na = df[df['value'].isna()]\n",
    "value_na['name'].unique()"
   ]
  },
  {
   "cell_type": "code",
   "execution_count": 26,
   "id": "9b0c7c9e-8dcf-43fe-9ad1-b62b11b45f33",
   "metadata": {},
   "outputs": [
    {
     "data": {
      "text/plain": [
       "array(['Hotel Mi', 'ST Signature Jalan Besar', 'Hotel 81 Gold',\n",
       "       'South East Asia Hotel', 'Hotel Bencoolen - Hong Kong Street',\n",
       "       'Holiday Inn Express & Suites Singapore Novena, an IHG Hotel',\n",
       "       'Yaju Hotel', 'Andaz Singapore', 'Galaxy Pods @ Chinatown',\n",
       "       'The Snooze Hotel Marine Parade', 'MET A Space Pod @ Arab Street',\n",
       "       'Republic of Singapore Yacht Club',\n",
       "       'The Sleepy Kiwi Backpackers Hostel'], dtype=object)"
      ]
     },
     "execution_count": 26,
     "metadata": {},
     "output_type": "execute_result"
    }
   ],
   "source": [
    "# hotels with NA hotel class\n",
    "value_na = df[df['hotel_class'].isna()]\n",
    "value_na['name'].unique()"
   ]
  },
  {
   "cell_type": "markdown",
   "id": "9e09b43c-1016-4ee2-a6c0-7c7e70f3be07",
   "metadata": {},
   "source": [
    "# EDA"
   ]
  },
  {
   "cell_type": "code",
   "execution_count": 27,
   "id": "b8053e5e",
   "metadata": {},
   "outputs": [
    {
     "data": {
      "image/png": "[encoded data removed]",
      "text/plain": [
       "<Figure size 1000x500 with 1 Axes>"
      ]
     },
     "metadata": {},
     "output_type": "display_data"
    }
   ],
   "source": [
    "ax = df['rating'].value_counts().sort_index() \\\n",
    "    .plot(kind='bar',\n",
    "          title='Count of Reviews by rating',\n",
    "          figsize=(10, 5))\n",
    "ax.set_xlabel('Rating')\n",
    "plt.show()"
   ]
  },
  {
   "cell_type": "code",
   "execution_count": 28,
   "id": "dfe7e900",
   "metadata": {},
   "outputs": [
    {
     "name": "stdout",
     "output_type": "stream",
     "text": [
      "Met a staff named Shan Ru who was very kind and greeted me on my way to the room. She also kindly provided additional coffee packets to me when I requested. Very good and friendly service all around the hotel.\n"
     ]
    }
   ],
   "source": [
    "example = df['comment_content'][60]\n",
    "print(example)"
   ]
  },
  {
   "cell_type": "code",
   "execution_count": 29,
   "id": "8795ae19",
   "metadata": {},
   "outputs": [
    {
     "data": {
      "text/plain": [
       "['Met', 'a', 'staff', 'named', 'Shan', 'Ru', 'who', 'was', 'very', 'kind']"
      ]
     },
     "execution_count": 29,
     "metadata": {},
     "output_type": "execute_result"
    }
   ],
   "source": [
    "tokens = nltk.word_tokenize(example)\n",
    "tokens[:10]"
   ]
  },
  {
   "cell_type": "code",
   "execution_count": 30,
   "id": "922e1cd8",
   "metadata": {},
   "outputs": [
    {
     "data": {
      "text/plain": [
       "[('Met', 'NNP'),\n",
       " ('a', 'DT'),\n",
       " ('staff', 'NN'),\n",
       " ('named', 'VBN'),\n",
       " ('Shan', 'NNP'),\n",
       " ('Ru', 'NNP'),\n",
       " ('who', 'WP'),\n",
       " ('was', 'VBD'),\n",
       " ('very', 'RB'),\n",
       " ('kind', 'NN')]"
      ]
     },
     "execution_count": 30,
     "metadata": {},
     "output_type": "execute_result"
    }
   ],
   "source": [
    "tagged = nltk.pos_tag(tokens)\n",
    "tagged[:10]"
   ]
  },
  {
   "cell_type": "markdown",
   "id": "867b3751",
   "metadata": {},
   "source": [
    "https://www.guru99.com/pos-tagging-chunking-nltk.html"
   ]
  },
  {
   "cell_type": "code",
   "execution_count": 31,
   "id": "125813c8",
   "metadata": {},
   "outputs": [
    {
     "name": "stdout",
     "output_type": "stream",
     "text": [
      "(S\n",
      "  Met/NNP\n",
      "  a/DT\n",
      "  staff/NN\n",
      "  named/VBN\n",
      "  (PERSON Shan/NNP Ru/NNP)\n",
      "  who/WP\n",
      "  was/VBD\n",
      "  very/RB\n",
      "  kind/NN\n",
      "  and/CC\n",
      "  greeted/VBD\n",
      "  me/PRP\n",
      "  on/IN\n",
      "  my/PRP$\n",
      "  way/NN\n",
      "  to/TO\n",
      "  the/DT\n",
      "  room/NN\n",
      "  ./.\n",
      "  She/PRP\n",
      "  also/RB\n",
      "  kindly/RB\n",
      "  provided/VBD\n",
      "  additional/JJ\n",
      "  coffee/NN\n",
      "  packets/NNS\n",
      "  to/TO\n",
      "  me/PRP\n",
      "  when/WRB\n",
      "  I/PRP\n",
      "  requested/VBD\n",
      "  ./.\n",
      "  Very/RB\n",
      "  good/JJ\n",
      "  and/CC\n",
      "  friendly/JJ\n",
      "  service/NN\n",
      "  all/DT\n",
      "  around/IN\n",
      "  the/DT\n",
      "  hotel/NN\n",
      "  ./.)\n"
     ]
    }
   ],
   "source": [
    "entities = nltk.chunk.ne_chunk(tagged)\n",
    "entities.pprint()"
   ]
  },
  {
   "cell_type": "markdown",
   "id": "7d6458d6",
   "metadata": {},
   "source": [
    "# VADER"
   ]
  },
  {
   "cell_type": "code",
   "execution_count": 32,
   "id": "d2a0c9cf",
   "metadata": {},
   "outputs": [],
   "source": [
    "from nltk.sentiment import SentimentIntensityAnalyzer\n",
    "\n",
    "sia = SentimentIntensityAnalyzer()"
   ]
  },
  {
   "cell_type": "code",
   "execution_count": 33,
   "id": "77290a6b",
   "metadata": {},
   "outputs": [
    {
     "data": {
      "text/plain": [
       "{'neg': 0.0, 'neu': 0.675, 'pos': 0.325, 'compound': 0.9424}"
      ]
     },
     "execution_count": 33,
     "metadata": {},
     "output_type": "execute_result"
    }
   ],
   "source": [
    "sia.polarity_scores(example)"
   ]
  },
  {
   "cell_type": "code",
   "execution_count": 34,
   "id": "94107853",
   "metadata": {},
   "outputs": [],
   "source": [
    "# Run the polarity score on the entire dataset\n",
    "res = {}\n",
    "for i, row in df.iterrows():\n",
    "    text = row['comment_content']\n",
    "    myid = row['index']\n",
    "    res[myid] = sia.polarity_scores(text)"
   ]
  },
  {
   "cell_type": "code",
   "execution_count": 35,
   "id": "61ac04d0",
   "metadata": {},
   "outputs": [],
   "source": [
    "vaders = pd.DataFrame(res).T\n",
    "vaders = vaders.reset_index().rename(columns={'index': 'index'})\n",
    "vaders = vaders.merge(df, how='left')"
   ]
  },
  {
   "cell_type": "code",
   "execution_count": 36,
   "id": "e77eeb97",
   "metadata": {},
   "outputs": [
    {
     "data": {
      "text/html": [
       "<div>\n",
       "<style scoped>\n",
       "    .dataframe tbody tr th:only-of-type {\n",
       "        vertical-align: middle;\n",
       "    }\n",
       "\n",
       "    .dataframe tbody tr th {\n",
       "        vertical-align: top;\n",
       "    }\n",
       "\n",
       "    .dataframe thead th {\n",
       "        text-align: right;\n",
       "    }\n",
       "</style>\n",
       "<table border=\"1\" class=\"dataframe\">\n",
       "  <thead>\n",
       "    <tr style=\"text-align: right;\">\n",
       "      <th></th>\n",
       "      <th>index</th>\n",
       "      <th>neg</th>\n",
       "      <th>neu</th>\n",
       "      <th>pos</th>\n",
       "      <th>compound</th>\n",
       "      <th>name</th>\n",
       "      <th>review_count</th>\n",
       "      <th>average_rating</th>\n",
       "      <th>overall_experience</th>\n",
       "      <th>rating</th>\n",
       "      <th>title</th>\n",
       "      <th>comment_content</th>\n",
       "      <th>date</th>\n",
       "      <th>hotel_class</th>\n",
       "      <th>good_to_know</th>\n",
       "      <th>location</th>\n",
       "      <th>cleanliness</th>\n",
       "      <th>service</th>\n",
       "      <th>value</th>\n",
       "    </tr>\n",
       "  </thead>\n",
       "  <tbody>\n",
       "    <tr>\n",
       "      <th>0</th>\n",
       "      <td>1</td>\n",
       "      <td>0.000</td>\n",
       "      <td>0.790</td>\n",
       "      <td>0.210</td>\n",
       "      <td>0.9894</td>\n",
       "      <td>M Social Singapore</td>\n",
       "      <td>2,042 reviews</td>\n",
       "      <td>4.0</td>\n",
       "      <td>4.2, 4.5, 4.2, 4.0</td>\n",
       "      <td>5</td>\n",
       "      <td>\"Exceptional Experience at M Social Hotel”</td>\n",
       "      <td>I had a similarly extraordinary experience dur...</td>\n",
       "      <td>Date of stay: September 2023</td>\n",
       "      <td>4.0</td>\n",
       "      <td>['', 'Boutique', 'Trendy', 'English, Chinese, ...</td>\n",
       "      <td>4.2</td>\n",
       "      <td>4.5</td>\n",
       "      <td>4.2</td>\n",
       "      <td>4.0</td>\n",
       "    </tr>\n",
       "    <tr>\n",
       "      <th>1</th>\n",
       "      <td>2</td>\n",
       "      <td>0.037</td>\n",
       "      <td>0.799</td>\n",
       "      <td>0.164</td>\n",
       "      <td>0.8689</td>\n",
       "      <td>M Social Singapore</td>\n",
       "      <td>2,042 reviews</td>\n",
       "      <td>4.0</td>\n",
       "      <td>4.2, 4.5, 4.2, 4.0</td>\n",
       "      <td>5</td>\n",
       "      <td>Armando at the front desk</td>\n",
       "      <td>Armando of the front desk was kind enough to l...</td>\n",
       "      <td>Date of stay: September 2023</td>\n",
       "      <td>4.0</td>\n",
       "      <td>['', 'Boutique', 'Trendy', 'English, Chinese, ...</td>\n",
       "      <td>4.2</td>\n",
       "      <td>4.5</td>\n",
       "      <td>4.2</td>\n",
       "      <td>4.0</td>\n",
       "    </tr>\n",
       "    <tr>\n",
       "      <th>2</th>\n",
       "      <td>3</td>\n",
       "      <td>0.000</td>\n",
       "      <td>0.703</td>\n",
       "      <td>0.297</td>\n",
       "      <td>0.9893</td>\n",
       "      <td>M Social Singapore</td>\n",
       "      <td>2,042 reviews</td>\n",
       "      <td>4.0</td>\n",
       "      <td>4.2, 4.5, 4.2, 4.0</td>\n",
       "      <td>5</td>\n",
       "      <td>The best stay experience in Singapore</td>\n",
       "      <td>We spend two wonderful nights at M Social Sing...</td>\n",
       "      <td>Date of stay: September 2023</td>\n",
       "      <td>4.0</td>\n",
       "      <td>['', 'Boutique', 'Trendy', 'English, Chinese, ...</td>\n",
       "      <td>4.2</td>\n",
       "      <td>4.5</td>\n",
       "      <td>4.2</td>\n",
       "      <td>4.0</td>\n",
       "    </tr>\n",
       "    <tr>\n",
       "      <th>3</th>\n",
       "      <td>4</td>\n",
       "      <td>0.000</td>\n",
       "      <td>0.719</td>\n",
       "      <td>0.281</td>\n",
       "      <td>0.9988</td>\n",
       "      <td>M Social Singapore</td>\n",
       "      <td>2,042 reviews</td>\n",
       "      <td>4.0</td>\n",
       "      <td>4.2, 4.5, 4.2, 4.0</td>\n",
       "      <td>5</td>\n",
       "      <td>A much needed STAYCATION</td>\n",
       "      <td>I have been frequenting M Social every time I ...</td>\n",
       "      <td>Date of stay: September 2023</td>\n",
       "      <td>4.0</td>\n",
       "      <td>['', 'Boutique', 'Trendy', 'English, Chinese, ...</td>\n",
       "      <td>4.2</td>\n",
       "      <td>4.5</td>\n",
       "      <td>4.2</td>\n",
       "      <td>4.0</td>\n",
       "    </tr>\n",
       "    <tr>\n",
       "      <th>4</th>\n",
       "      <td>5</td>\n",
       "      <td>0.000</td>\n",
       "      <td>0.820</td>\n",
       "      <td>0.180</td>\n",
       "      <td>0.7003</td>\n",
       "      <td>M Social Singapore</td>\n",
       "      <td>2,042 reviews</td>\n",
       "      <td>4.0</td>\n",
       "      <td>4.2, 4.5, 4.2, 4.0</td>\n",
       "      <td>5</td>\n",
       "      <td>Super location super staff .</td>\n",
       "      <td>Excellent location great hotel... especially A...</td>\n",
       "      <td>Date of stay: September 2023</td>\n",
       "      <td>4.0</td>\n",
       "      <td>['', 'Boutique', 'Trendy', 'English, Chinese, ...</td>\n",
       "      <td>4.2</td>\n",
       "      <td>4.5</td>\n",
       "      <td>4.2</td>\n",
       "      <td>4.0</td>\n",
       "    </tr>\n",
       "    <tr>\n",
       "      <th>...</th>\n",
       "      <td>...</td>\n",
       "      <td>...</td>\n",
       "      <td>...</td>\n",
       "      <td>...</td>\n",
       "      <td>...</td>\n",
       "      <td>...</td>\n",
       "      <td>...</td>\n",
       "      <td>...</td>\n",
       "      <td>...</td>\n",
       "      <td>...</td>\n",
       "      <td>...</td>\n",
       "      <td>...</td>\n",
       "      <td>...</td>\n",
       "      <td>...</td>\n",
       "      <td>...</td>\n",
       "      <td>...</td>\n",
       "      <td>...</td>\n",
       "      <td>...</td>\n",
       "      <td>...</td>\n",
       "    </tr>\n",
       "    <tr>\n",
       "      <th>51704</th>\n",
       "      <td>51705</td>\n",
       "      <td>0.017</td>\n",
       "      <td>0.801</td>\n",
       "      <td>0.182</td>\n",
       "      <td>0.9747</td>\n",
       "      <td>Spacepod@SG</td>\n",
       "      <td>20 reviews</td>\n",
       "      <td>3.5</td>\n",
       "      <td>1.0, 3.0, 3.0</td>\n",
       "      <td>5</td>\n",
       "      <td>Easy comfortable cheap</td>\n",
       "      <td>I booked with this place to experience a capsu...</td>\n",
       "      <td>Date of stay: June 2019</td>\n",
       "      <td>2.0</td>\n",
       "      <td>['', 'Budget', 'English, Chinese']</td>\n",
       "      <td>1.0</td>\n",
       "      <td>3.0</td>\n",
       "      <td>3.0</td>\n",
       "      <td>NaN</td>\n",
       "    </tr>\n",
       "    <tr>\n",
       "      <th>51705</th>\n",
       "      <td>51706</td>\n",
       "      <td>0.000</td>\n",
       "      <td>0.734</td>\n",
       "      <td>0.266</td>\n",
       "      <td>0.9635</td>\n",
       "      <td>Spacepod@SG</td>\n",
       "      <td>20 reviews</td>\n",
       "      <td>3.5</td>\n",
       "      <td>1.0, 3.0, 3.0</td>\n",
       "      <td>5</td>\n",
       "      <td>Awesome place to stay!</td>\n",
       "      <td>It's my first time to stay in capsule hotel an...</td>\n",
       "      <td>Date of stay: November 2018</td>\n",
       "      <td>2.0</td>\n",
       "      <td>['', 'Budget', 'English, Chinese']</td>\n",
       "      <td>1.0</td>\n",
       "      <td>3.0</td>\n",
       "      <td>3.0</td>\n",
       "      <td>NaN</td>\n",
       "    </tr>\n",
       "    <tr>\n",
       "      <th>51706</th>\n",
       "      <td>51707</td>\n",
       "      <td>0.000</td>\n",
       "      <td>0.638</td>\n",
       "      <td>0.362</td>\n",
       "      <td>0.9876</td>\n",
       "      <td>Spacepod@SG</td>\n",
       "      <td>20 reviews</td>\n",
       "      <td>3.5</td>\n",
       "      <td>1.0, 3.0, 3.0</td>\n",
       "      <td>5</td>\n",
       "      <td>Worth every pennies</td>\n",
       "      <td>The receptionist ladies (Rachel and Joey) were...</td>\n",
       "      <td>Date of stay: November 2018</td>\n",
       "      <td>2.0</td>\n",
       "      <td>['', 'Budget', 'English, Chinese']</td>\n",
       "      <td>1.0</td>\n",
       "      <td>3.0</td>\n",
       "      <td>3.0</td>\n",
       "      <td>NaN</td>\n",
       "    </tr>\n",
       "    <tr>\n",
       "      <th>51707</th>\n",
       "      <td>51708</td>\n",
       "      <td>0.047</td>\n",
       "      <td>0.727</td>\n",
       "      <td>0.227</td>\n",
       "      <td>0.9756</td>\n",
       "      <td>Spacepod@SG</td>\n",
       "      <td>20 reviews</td>\n",
       "      <td>3.5</td>\n",
       "      <td>1.0, 3.0, 3.0</td>\n",
       "      <td>3</td>\n",
       "      <td>Unique yet weird place to stay</td>\n",
       "      <td>Okay. What was my consideration to stay here? ...</td>\n",
       "      <td>Date of stay: October 2018</td>\n",
       "      <td>2.0</td>\n",
       "      <td>['', 'Budget', 'English, Chinese']</td>\n",
       "      <td>1.0</td>\n",
       "      <td>3.0</td>\n",
       "      <td>3.0</td>\n",
       "      <td>NaN</td>\n",
       "    </tr>\n",
       "    <tr>\n",
       "      <th>51708</th>\n",
       "      <td>51709</td>\n",
       "      <td>0.000</td>\n",
       "      <td>0.856</td>\n",
       "      <td>0.144</td>\n",
       "      <td>0.8634</td>\n",
       "      <td>Spacepod@SG</td>\n",
       "      <td>20 reviews</td>\n",
       "      <td>3.5</td>\n",
       "      <td>1.0, 3.0, 3.0</td>\n",
       "      <td>4</td>\n",
       "      <td>Futuristic Capsule Hotel</td>\n",
       "      <td>Located near the Bus and MRT Station Kallang m...</td>\n",
       "      <td>Date of stay: October 2018</td>\n",
       "      <td>2.0</td>\n",
       "      <td>['', 'Budget', 'English, Chinese']</td>\n",
       "      <td>1.0</td>\n",
       "      <td>3.0</td>\n",
       "      <td>3.0</td>\n",
       "      <td>NaN</td>\n",
       "    </tr>\n",
       "  </tbody>\n",
       "</table>\n",
       "<p>51709 rows × 19 columns</p>\n",
       "</div>"
      ],
      "text/plain": [
       "       index    neg    neu    pos  compound                name  \\\n",
       "0          1  0.000  0.790  0.210    0.9894  M Social Singapore   \n",
       "1          2  0.037  0.799  0.164    0.8689  M Social Singapore   \n",
       "2          3  0.000  0.703  0.297    0.9893  M Social Singapore   \n",
       "3          4  0.000  0.719  0.281    0.9988  M Social Singapore   \n",
       "4          5  0.000  0.820  0.180    0.7003  M Social Singapore   \n",
       "...      ...    ...    ...    ...       ...                 ...   \n",
       "51704  51705  0.017  0.801  0.182    0.9747         Spacepod@SG   \n",
       "51705  51706  0.000  0.734  0.266    0.9635         Spacepod@SG   \n",
       "51706  51707  0.000  0.638  0.362    0.9876         Spacepod@SG   \n",
       "51707  51708  0.047  0.727  0.227    0.9756         Spacepod@SG   \n",
       "51708  51709  0.000  0.856  0.144    0.8634         Spacepod@SG   \n",
       "\n",
       "        review_count  average_rating  overall_experience  rating  \\\n",
       "0      2,042 reviews             4.0  4.2, 4.5, 4.2, 4.0       5   \n",
       "1      2,042 reviews             4.0  4.2, 4.5, 4.2, 4.0       5   \n",
       "2      2,042 reviews             4.0  4.2, 4.5, 4.2, 4.0       5   \n",
       "3      2,042 reviews             4.0  4.2, 4.5, 4.2, 4.0       5   \n",
       "4      2,042 reviews             4.0  4.2, 4.5, 4.2, 4.0       5   \n",
       "...              ...             ...                 ...     ...   \n",
       "51704     20 reviews             3.5       1.0, 3.0, 3.0       5   \n",
       "51705     20 reviews             3.5       1.0, 3.0, 3.0       5   \n",
       "51706     20 reviews             3.5       1.0, 3.0, 3.0       5   \n",
       "51707     20 reviews             3.5       1.0, 3.0, 3.0       3   \n",
       "51708     20 reviews             3.5       1.0, 3.0, 3.0       4   \n",
       "\n",
       "                                            title  \\\n",
       "0      \"Exceptional Experience at M Social Hotel”   \n",
       "1                       Armando at the front desk   \n",
       "2           The best stay experience in Singapore   \n",
       "3                        A much needed STAYCATION   \n",
       "4                    Super location super staff .   \n",
       "...                                           ...   \n",
       "51704                      Easy comfortable cheap   \n",
       "51705                      Awesome place to stay!   \n",
       "51706                         Worth every pennies   \n",
       "51707              Unique yet weird place to stay   \n",
       "51708                    Futuristic Capsule Hotel   \n",
       "\n",
       "                                         comment_content  \\\n",
       "0      I had a similarly extraordinary experience dur...   \n",
       "1      Armando of the front desk was kind enough to l...   \n",
       "2      We spend two wonderful nights at M Social Sing...   \n",
       "3      I have been frequenting M Social every time I ...   \n",
       "4      Excellent location great hotel... especially A...   \n",
       "...                                                  ...   \n",
       "51704  I booked with this place to experience a capsu...   \n",
       "51705  It's my first time to stay in capsule hotel an...   \n",
       "51706  The receptionist ladies (Rachel and Joey) were...   \n",
       "51707  Okay. What was my consideration to stay here? ...   \n",
       "51708  Located near the Bus and MRT Station Kallang m...   \n",
       "\n",
       "                               date  hotel_class  \\\n",
       "0      Date of stay: September 2023          4.0   \n",
       "1      Date of stay: September 2023          4.0   \n",
       "2      Date of stay: September 2023          4.0   \n",
       "3      Date of stay: September 2023          4.0   \n",
       "4      Date of stay: September 2023          4.0   \n",
       "...                             ...          ...   \n",
       "51704       Date of stay: June 2019          2.0   \n",
       "51705   Date of stay: November 2018          2.0   \n",
       "51706   Date of stay: November 2018          2.0   \n",
       "51707    Date of stay: October 2018          2.0   \n",
       "51708    Date of stay: October 2018          2.0   \n",
       "\n",
       "                                            good_to_know  location  \\\n",
       "0      ['', 'Boutique', 'Trendy', 'English, Chinese, ...       4.2   \n",
       "1      ['', 'Boutique', 'Trendy', 'English, Chinese, ...       4.2   \n",
       "2      ['', 'Boutique', 'Trendy', 'English, Chinese, ...       4.2   \n",
       "3      ['', 'Boutique', 'Trendy', 'English, Chinese, ...       4.2   \n",
       "4      ['', 'Boutique', 'Trendy', 'English, Chinese, ...       4.2   \n",
       "...                                                  ...       ...   \n",
       "51704                 ['', 'Budget', 'English, Chinese']       1.0   \n",
       "51705                 ['', 'Budget', 'English, Chinese']       1.0   \n",
       "51706                 ['', 'Budget', 'English, Chinese']       1.0   \n",
       "51707                 ['', 'Budget', 'English, Chinese']       1.0   \n",
       "51708                 ['', 'Budget', 'English, Chinese']       1.0   \n",
       "\n",
       "       cleanliness  service  value  \n",
       "0              4.5      4.2    4.0  \n",
       "1              4.5      4.2    4.0  \n",
       "2              4.5      4.2    4.0  \n",
       "3              4.5      4.2    4.0  \n",
       "4              4.5      4.2    4.0  \n",
       "...            ...      ...    ...  \n",
       "51704          3.0      3.0    NaN  \n",
       "51705          3.0      3.0    NaN  \n",
       "51706          3.0      3.0    NaN  \n",
       "51707          3.0      3.0    NaN  \n",
       "51708          3.0      3.0    NaN  \n",
       "\n",
       "[51709 rows x 19 columns]"
      ]
     },
     "execution_count": 36,
     "metadata": {},
     "output_type": "execute_result"
    }
   ],
   "source": [
    "vaders"
   ]
  },
  {
   "cell_type": "markdown",
   "id": "e86defb1",
   "metadata": {},
   "source": [
    "# vader reusults"
   ]
  },
  {
   "cell_type": "code",
   "execution_count": 37,
   "id": "e05dd64b",
   "metadata": {},
   "outputs": [
    {
     "data": {
      "image/png": "[encoded data removed]",
      "text/plain": [
       "<Figure size 640x480 with 1 Axes>"
      ]
     },
     "metadata": {},
     "output_type": "display_data"
    }
   ],
   "source": [
    "ax = sns.barplot(data=vaders, x='rating', y='compound', errorbar=None)\n",
    "ax.set_title('Compund Score by rating')\n",
    "plt.show()"
   ]
  },
  {
   "cell_type": "code",
   "execution_count": 38,
   "id": "cbb2149d",
   "metadata": {},
   "outputs": [
    {
     "data": {
      "image/png": "[encoded data removed]",
      "text/plain": [
       "<Figure size 1200x300 with 3 Axes>"
      ]
     },
     "metadata": {},
     "output_type": "display_data"
    }
   ],
   "source": [
    "fig, axs = plt.subplots(1, 3, figsize=(12, 3))\n",
    "sns.barplot(data=vaders, x='rating', y='pos', ax=axs[0], errorbar=None)\n",
    "sns.barplot(data=vaders, x='rating', y='neu', ax=axs[1], errorbar=None)\n",
    "sns.barplot(data=vaders, x='rating', y='neg', ax=axs[2], errorbar=None)\n",
    "axs[0].set_title('Positive')\n",
    "axs[1].set_title('Neutral')\n",
    "axs[2].set_title('Negative')\n",
    "plt.tight_layout()\n",
    "plt.show()"
   ]
  },
  {
   "cell_type": "markdown",
   "id": "858ed4a1",
   "metadata": {},
   "source": [
    "this shows that vader is valuble in having this connection betwwen the sentiment score of the text and the rating"
   ]
  },
  {
   "cell_type": "markdown",
   "id": "3a096929",
   "metadata": {},
   "source": [
    "# however, vader does not pick up on sarcasm, we have transformer deep learning models that can pick up those context"
   ]
  },
  {
   "cell_type": "code",
   "execution_count": null,
   "id": "3b34f9b9",
   "metadata": {},
   "outputs": [],
   "source": [
    "from transformers import AutoTokenizer\n",
    "from transformers import AutoModelForSequenceClassification\n",
    "from scipy.special import softmax"
   ]
  },
  {
   "cell_type": "code",
   "execution_count": null,
   "id": "3c5c97af",
   "metadata": {},
   "outputs": [],
   "source": [
    "MODEL = f\"cardiffnlp/twitter-roberta-base-sentiment\"\n",
    "tokenizer = AutoTokenizer.from_pretrained(MODEL)\n",
    "model = AutoModelForSequenceClassification.from_pretrained(MODEL)"
   ]
  },
  {
   "cell_type": "code",
   "execution_count": null,
   "id": "5f0a060c",
   "metadata": {},
   "outputs": [],
   "source": [
    "# VADER \n",
    "print(example)\n",
    "sia.polarity_scores(example)"
   ]
  },
  {
   "cell_type": "code",
   "execution_count": null,
   "id": "7110cdd4-3519-40d8-972d-68ac1b8a31d0",
   "metadata": {},
   "outputs": [],
   "source": [
    "# Roberta Model\n",
    "encoded_text = tokenizer(example, return_tensors='pt')\n",
    "output = model(**encoded_text)\n",
    "scores = output[0][0].detach().numpy()\n",
    "scores = softmax(scores)\n",
    "scores_dict = {\n",
    "    'roberta_neg' : scores[0],\n",
    "    'roberta_neu' : scores[1],\n",
    "    'roberta_pos' : scores[2]\n",
    "}\n",
    "print(scores_dict)"
   ]
  },
  {
   "cell_type": "code",
   "execution_count": null,
   "id": "94387b7d-c12a-426a-87ef-c9ce220dce39",
   "metadata": {},
   "outputs": [],
   "source": [
    "def polarity_scores_roberta(example):\n",
    "    encoded_text = tokenizer(example, return_tensors='pt')\n",
    "    output = model(**encoded_text)\n",
    "    scores = output[0][0].detach().numpy()\n",
    "    scores = softmax(scores)\n",
    "    scores_dict = {\n",
    "        'roberta_neg' : scores[0],\n",
    "        'roberta_neu' : scores[1],\n",
    "        'roberta_pos' : scores[2]\n",
    "    }\n",
    "    return scores_dict"
   ]
  },
  {
   "cell_type": "code",
   "execution_count": null,
   "id": "97c7260f-62db-4b54-9514-313d151abb78",
   "metadata": {},
   "outputs": [],
   "source": [
    "res = {}\n",
    "\n",
    "for i, row in df.iterrows():\n",
    "    try:\n",
    "        text = row['comment_content']\n",
    "        \n",
    "        # Perform VADER sentiment analysis\n",
    "        vader_result = sia.polarity_scores(text)\n",
    "        vader_result_rename = {}\n",
    "        for key, value in vader_result.items():\n",
    "            vader_result_rename[f\"vader_{key}\"] = value\n",
    "        \n",
    "        # Perform sentiment analysis using 'polarity_scores_roberta' function\n",
    "        # You should define this function separately if you haven't already\n",
    "        roberta_result = polarity_scores_roberta(text) \n",
    "        \n",
    "        # Combine the results from both methods into one dictionary\n",
    "        both = {**vader_result_rename, **roberta_result}\n",
    "        res[i] = both\n",
    "    except RuntimeError:\n",
    "        print(f'Broke for id {i}')\n",
    "\n",
    "# Display the results\n",
    "print(res)"
   ]
  },
  {
   "cell_type": "code",
   "execution_count": null,
   "id": "bd6b395d-329d-40c9-b6d6-ca027058548e",
   "metadata": {
    "scrolled": true
   },
   "outputs": [],
   "source": [
    "df.iloc[[162]]"
   ]
  },
  {
   "cell_type": "code",
   "execution_count": null,
   "id": "1d63be85-6aa8-428f-acc6-41b826e8881a",
   "metadata": {},
   "outputs": [],
   "source": [
    "pd.set_option('display.max_colwidth', None)"
   ]
  },
  {
   "cell_type": "code",
   "execution_count": null,
   "id": "019cafbb-8bf1-4284-9d47-275d524a1f2d",
   "metadata": {},
   "outputs": [],
   "source": []
  }
 ],
 "metadata": {
  "kernelspec": {
   "display_name": "venv",
   "language": "python",
   "name": "venv"
  },
  "language_info": {
   "codemirror_mode": {
    "name": "ipython",
    "version": 3
   },
   "file_extension": ".py",
   "mimetype": "text/x-python",
   "name": "python",
   "nbconvert_exporter": "python",
   "pygments_lexer": "ipython3",
   "version": "3.11.4"
  }
 },
 "nbformat": 4,
 "nbformat_minor": 5
}
