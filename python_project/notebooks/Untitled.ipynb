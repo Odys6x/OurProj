{
 "cells": [
  {
   "cell_type": "markdown",
   "id": "b8a4f538",
   "metadata": {},
   "source": [
    "# libraries"
   ]
  },
  {
   "cell_type": "code",
   "execution_count": 1,
   "id": "8a103700",
   "metadata": {},
   "outputs": [],
   "source": [
    "import pandas as pd\n",
    "import numpy as np\n",
    "import matplotlib.pyplot as plt\n",
    "import seaborn as sns\n",
    "import nltk\n",
    "plt.style.use('ggplot')"
   ]
  },
  {
   "cell_type": "code",
   "execution_count": 2,
   "id": "40c0aa98",
   "metadata": {},
   "outputs": [
    {
     "name": "stderr",
     "output_type": "stream",
     "text": [
      "[nltk_data] Downloading package punkt to\n",
      "[nltk_data]     C:\\Users\\quay\\AppData\\Roaming\\nltk_data...\n",
      "[nltk_data]   Package punkt is already up-to-date!\n",
      "[nltk_data] Downloading package averaged_perceptron_tagger to\n",
      "[nltk_data]     C:\\Users\\quay\\AppData\\Roaming\\nltk_data...\n",
      "[nltk_data]   Package averaged_perceptron_tagger is already up-to-\n",
      "[nltk_data]       date!\n",
      "[nltk_data] Downloading package maxent_ne_chunker to\n",
      "[nltk_data]     C:\\Users\\quay\\AppData\\Roaming\\nltk_data...\n",
      "[nltk_data]   Package maxent_ne_chunker is already up-to-date!\n",
      "[nltk_data] Downloading package words to\n",
      "[nltk_data]     C:\\Users\\quay\\AppData\\Roaming\\nltk_data...\n",
      "[nltk_data]   Package words is already up-to-date!\n",
      "[nltk_data] Downloading package vader_lexicon to\n",
      "[nltk_data]     C:\\Users\\quay\\AppData\\Roaming\\nltk_data...\n",
      "[nltk_data]   Package vader_lexicon is already up-to-date!\n"
     ]
    },
    {
     "data": {
      "text/plain": [
       "True"
      ]
     },
     "execution_count": 2,
     "metadata": {},
     "output_type": "execute_result"
    }
   ],
   "source": [
    "nltk.download('punkt')\n",
    "nltk.download('averaged_perceptron_tagger')\n",
    "nltk.download('maxent_ne_chunker')\n",
    "nltk.download('words')\n",
    "nltk.download('vader_lexicon')"
   ]
  },
  {
   "cell_type": "markdown",
   "id": "5451c136",
   "metadata": {},
   "source": [
    "# read csv to dataframe"
   ]
  },
  {
   "cell_type": "code",
   "execution_count": 3,
   "id": "30fe423e",
   "metadata": {},
   "outputs": [],
   "source": [
    "filepath = \"../data/raw/refined.csv\""
   ]
  },
  {
   "cell_type": "code",
   "execution_count": 4,
   "id": "7148fd09",
   "metadata": {},
   "outputs": [],
   "source": [
    "df = pd.read_csv(filepath)"
   ]
  },
  {
   "cell_type": "code",
   "execution_count": 5,
   "id": "bee206c7",
   "metadata": {},
   "outputs": [],
   "source": [
    "df['index'] = df.index"
   ]
  },
  {
   "cell_type": "code",
   "execution_count": 6,
   "id": "aef971f0",
   "metadata": {},
   "outputs": [],
   "source": [
    "df.columns = [x.replace(' ', '_') for x in df.columns]\n",
    "df.columns = [x.lower() for x in df.columns]"
   ]
  },
  {
   "cell_type": "code",
   "execution_count": 7,
   "id": "013a59f8-66f5-420e-9acf-1685a965ec8a",
   "metadata": {},
   "outputs": [],
   "source": [
    "df['comment_content'] = df['comment_content'].apply(lambda x: x.encode('ascii', 'ignore').decode('utf-8'))\n",
    "#df = df[df.comment_content.map(lambda x: x.isascii())]"
   ]
  },
  {
   "cell_type": "code",
   "execution_count": 8,
   "id": "8bed0e15",
   "metadata": {},
   "outputs": [
    {
     "data": {
      "text/html": [
       "<div>\n",
       "<style scoped>\n",
       "    .dataframe tbody tr th:only-of-type {\n",
       "        vertical-align: middle;\n",
       "    }\n",
       "\n",
       "    .dataframe tbody tr th {\n",
       "        vertical-align: top;\n",
       "    }\n",
       "\n",
       "    .dataframe thead th {\n",
       "        text-align: right;\n",
       "    }\n",
       "</style>\n",
       "<table border=\"1\" class=\"dataframe\">\n",
       "  <thead>\n",
       "    <tr style=\"text-align: right;\">\n",
       "      <th></th>\n",
       "      <th>name</th>\n",
       "      <th>review_count</th>\n",
       "      <th>average_rating</th>\n",
       "      <th>overall_experience</th>\n",
       "      <th>rating</th>\n",
       "      <th>title</th>\n",
       "      <th>comment_content</th>\n",
       "      <th>date</th>\n",
       "      <th>hotel_class</th>\n",
       "      <th>good_to_know</th>\n",
       "      <th>index</th>\n",
       "    </tr>\n",
       "  </thead>\n",
       "  <tbody>\n",
       "    <tr>\n",
       "      <th>0</th>\n",
       "      <td>Oxford Hotel</td>\n",
       "      <td>178 reviews</td>\n",
       "      <td>2.5</td>\n",
       "      <td>[3.9, 2.5, 2.6, 2.2]</td>\n",
       "      <td>5</td>\n",
       "      <td>Best Among the Budget-friendly Hotels in SG</td>\n",
       "      <td>I love this hotel! Its in a quiet and peaceful...</td>\n",
       "      <td>Date of stay: July 2023</td>\n",
       "      <td>3.0 of 5 stars</td>\n",
       "      <td>['', 'English, Chinese, Filipino, Malay']</td>\n",
       "      <td>0</td>\n",
       "    </tr>\n",
       "    <tr>\n",
       "      <th>1</th>\n",
       "      <td>Oxford Hotel</td>\n",
       "      <td>178 reviews</td>\n",
       "      <td>2.5</td>\n",
       "      <td>[3.9, 2.5, 2.6, 2.2]</td>\n",
       "      <td>4</td>\n",
       "      <td>Good Location for Travel around Singapore Center</td>\n",
       "      <td>Convenience near MRT Station and Bus Stops, Le...</td>\n",
       "      <td>Date of stay: June 2023</td>\n",
       "      <td>3.0 of 5 stars</td>\n",
       "      <td>['', 'English, Chinese, Filipino, Malay']</td>\n",
       "      <td>1</td>\n",
       "    </tr>\n",
       "    <tr>\n",
       "      <th>2</th>\n",
       "      <td>Oxford Hotel</td>\n",
       "      <td>178 reviews</td>\n",
       "      <td>2.5</td>\n",
       "      <td>[3.9, 2.5, 2.6, 2.2]</td>\n",
       "      <td>4</td>\n",
       "      <td>I guess I'm one of the lucky ones!</td>\n",
       "      <td>After seeing some of these reviews, I was some...</td>\n",
       "      <td>Date of stay: February 2023</td>\n",
       "      <td>3.0 of 5 stars</td>\n",
       "      <td>['', 'English, Chinese, Filipino, Malay']</td>\n",
       "      <td>2</td>\n",
       "    </tr>\n",
       "    <tr>\n",
       "      <th>3</th>\n",
       "      <td>Oxford Hotel</td>\n",
       "      <td>178 reviews</td>\n",
       "      <td>2.5</td>\n",
       "      <td>[3.9, 2.5, 2.6, 2.2]</td>\n",
       "      <td>1</td>\n",
       "      <td>Hotel to avoid for SLEEPLESS nights !</td>\n",
       "      <td>in Jan, 2023, I stayed for 2 nights @ Budget O...</td>\n",
       "      <td>Date of stay: January 2023</td>\n",
       "      <td>3.0 of 5 stars</td>\n",
       "      <td>['', 'English, Chinese, Filipino, Malay']</td>\n",
       "      <td>3</td>\n",
       "    </tr>\n",
       "    <tr>\n",
       "      <th>4</th>\n",
       "      <td>Oxford Hotel</td>\n",
       "      <td>178 reviews</td>\n",
       "      <td>2.5</td>\n",
       "      <td>[3.9, 2.5, 2.6, 2.2]</td>\n",
       "      <td>2</td>\n",
       "      <td>Not a good place if you need to work</td>\n",
       "      <td>For such a high cost you'd expect functional W...</td>\n",
       "      <td>Date of stay: November 2022</td>\n",
       "      <td>3.0 of 5 stars</td>\n",
       "      <td>['', 'English, Chinese, Filipino, Malay']</td>\n",
       "      <td>4</td>\n",
       "    </tr>\n",
       "  </tbody>\n",
       "</table>\n",
       "</div>"
      ],
      "text/plain": [
       "           name review_count  average_rating    overall_experience  rating  \\\n",
       "0  Oxford Hotel  178 reviews             2.5  [3.9, 2.5, 2.6, 2.2]       5   \n",
       "1  Oxford Hotel  178 reviews             2.5  [3.9, 2.5, 2.6, 2.2]       4   \n",
       "2  Oxford Hotel  178 reviews             2.5  [3.9, 2.5, 2.6, 2.2]       4   \n",
       "3  Oxford Hotel  178 reviews             2.5  [3.9, 2.5, 2.6, 2.2]       1   \n",
       "4  Oxford Hotel  178 reviews             2.5  [3.9, 2.5, 2.6, 2.2]       2   \n",
       "\n",
       "                                              title  \\\n",
       "0       Best Among the Budget-friendly Hotels in SG   \n",
       "1  Good Location for Travel around Singapore Center   \n",
       "2                I guess I'm one of the lucky ones!   \n",
       "3             Hotel to avoid for SLEEPLESS nights !   \n",
       "4              Not a good place if you need to work   \n",
       "\n",
       "                                     comment_content  \\\n",
       "0  I love this hotel! Its in a quiet and peaceful...   \n",
       "1  Convenience near MRT Station and Bus Stops, Le...   \n",
       "2  After seeing some of these reviews, I was some...   \n",
       "3  in Jan, 2023, I stayed for 2 nights @ Budget O...   \n",
       "4  For such a high cost you'd expect functional W...   \n",
       "\n",
       "                          date     hotel_class  \\\n",
       "0      Date of stay: July 2023  3.0 of 5 stars   \n",
       "1      Date of stay: June 2023  3.0 of 5 stars   \n",
       "2  Date of stay: February 2023  3.0 of 5 stars   \n",
       "3   Date of stay: January 2023  3.0 of 5 stars   \n",
       "4  Date of stay: November 2022  3.0 of 5 stars   \n",
       "\n",
       "                                good_to_know  index  \n",
       "0  ['', 'English, Chinese, Filipino, Malay']      0  \n",
       "1  ['', 'English, Chinese, Filipino, Malay']      1  \n",
       "2  ['', 'English, Chinese, Filipino, Malay']      2  \n",
       "3  ['', 'English, Chinese, Filipino, Malay']      3  \n",
       "4  ['', 'English, Chinese, Filipino, Malay']      4  "
      ]
     },
     "execution_count": 8,
     "metadata": {},
     "output_type": "execute_result"
    }
   ],
   "source": [
    "df.head()"
   ]
  },
  {
   "cell_type": "markdown",
   "id": "4b4cdda8",
   "metadata": {},
   "source": [
    "# renaming columns"
   ]
  },
  {
   "cell_type": "code",
   "execution_count": 9,
   "id": "b8053e5e",
   "metadata": {},
   "outputs": [
    {
     "data": {
      "image/png": "[encoded data removed]",
      "text/plain": [
       "<Figure size 1000x500 with 1 Axes>"
      ]
     },
     "metadata": {},
     "output_type": "display_data"
    }
   ],
   "source": [
    "ax = df['rating'].value_counts().sort_index() \\\n",
    "    .plot(kind='bar',\n",
    "          title='Count of Reviews by rating',\n",
    "          figsize=(10, 5))\n",
    "ax.set_xlabel('Rating')\n",
    "plt.show()"
   ]
  },
  {
   "cell_type": "code",
   "execution_count": 10,
   "id": "dfe7e900",
   "metadata": {},
   "outputs": [
    {
     "name": "stdout",
     "output_type": "stream",
     "text": [
      "We booked room without window, the room is small but it's quite comfortable. The desk lamp is placed right above the bed si it's quite hard to sit on the bed while leaning our back to the wall.   The location is only 3 mins walk from bras basah MRT station and very near to Bugis area. The staff also very nice and helpfull.\n"
     ]
    }
   ],
   "source": [
    "example = df['comment_content'][60]\n",
    "print(example)"
   ]
  },
  {
   "cell_type": "code",
   "execution_count": 11,
   "id": "8795ae19",
   "metadata": {},
   "outputs": [
    {
     "data": {
      "text/plain": [
       "['We',\n",
       " 'booked',\n",
       " 'room',\n",
       " 'without',\n",
       " 'window',\n",
       " ',',\n",
       " 'the',\n",
       " 'room',\n",
       " 'is',\n",
       " 'small']"
      ]
     },
     "execution_count": 11,
     "metadata": {},
     "output_type": "execute_result"
    }
   ],
   "source": [
    "tokens = nltk.word_tokenize(example)\n",
    "tokens[:10]"
   ]
  },
  {
   "cell_type": "code",
   "execution_count": 12,
   "id": "922e1cd8",
   "metadata": {},
   "outputs": [
    {
     "data": {
      "text/plain": [
       "[('We', 'PRP'),\n",
       " ('booked', 'VBD'),\n",
       " ('room', 'NN'),\n",
       " ('without', 'IN'),\n",
       " ('window', 'NN'),\n",
       " (',', ','),\n",
       " ('the', 'DT'),\n",
       " ('room', 'NN'),\n",
       " ('is', 'VBZ'),\n",
       " ('small', 'JJ')]"
      ]
     },
     "execution_count": 12,
     "metadata": {},
     "output_type": "execute_result"
    }
   ],
   "source": [
    "tagged = nltk.pos_tag(tokens)\n",
    "tagged[:10]"
   ]
  },
  {
   "cell_type": "markdown",
   "id": "867b3751",
   "metadata": {},
   "source": [
    "https://www.guru99.com/pos-tagging-chunking-nltk.html"
   ]
  },
  {
   "cell_type": "code",
   "execution_count": 13,
   "id": "125813c8",
   "metadata": {},
   "outputs": [
    {
     "name": "stdout",
     "output_type": "stream",
     "text": [
      "(S\n",
      "  We/PRP\n",
      "  booked/VBD\n",
      "  room/NN\n",
      "  without/IN\n",
      "  window/NN\n",
      "  ,/,\n",
      "  the/DT\n",
      "  room/NN\n",
      "  is/VBZ\n",
      "  small/JJ\n",
      "  but/CC\n",
      "  it/PRP\n",
      "  's/VBZ\n",
      "  quite/RB\n",
      "  comfortable/JJ\n",
      "  ./.\n",
      "  The/DT\n",
      "  desk/NN\n",
      "  lamp/NN\n",
      "  is/VBZ\n",
      "  placed/VBN\n",
      "  right/RB\n",
      "  above/IN\n",
      "  the/DT\n",
      "  bed/NN\n",
      "  si/VBD\n",
      "  it/PRP\n",
      "  's/VBZ\n",
      "  quite/RB\n",
      "  hard/JJ\n",
      "  to/TO\n",
      "  sit/VB\n",
      "  on/IN\n",
      "  the/DT\n",
      "  bed/NN\n",
      "  while/IN\n",
      "  leaning/VBG\n",
      "  our/PRP$\n",
      "  back/NN\n",
      "  to/TO\n",
      "  the/DT\n",
      "  wall/NN\n",
      "  ./.\n",
      "  The/DT\n",
      "  location/NN\n",
      "  is/VBZ\n",
      "  only/RB\n",
      "  3/CD\n",
      "  mins/NNS\n",
      "  walk/VBP\n",
      "  from/IN\n",
      "  bras/NNS\n",
      "  basah/JJ\n",
      "  (ORGANIZATION MRT/NNP)\n",
      "  station/NN\n",
      "  and/CC\n",
      "  very/RB\n",
      "  near/IN\n",
      "  to/TO\n",
      "  (GPE Bugis/NNP)\n",
      "  area/NN\n",
      "  ./.\n",
      "  The/DT\n",
      "  staff/NN\n",
      "  also/RB\n",
      "  very/RB\n",
      "  nice/JJ\n",
      "  and/CC\n",
      "  helpfull/NN\n",
      "  ./.)\n"
     ]
    }
   ],
   "source": [
    "entities = nltk.chunk.ne_chunk(tagged)\n",
    "entities.pprint()"
   ]
  },
  {
   "cell_type": "markdown",
   "id": "7d6458d6",
   "metadata": {},
   "source": [
    "# VADER"
   ]
  },
  {
   "cell_type": "code",
   "execution_count": 14,
   "id": "d2a0c9cf",
   "metadata": {},
   "outputs": [],
   "source": [
    "from nltk.sentiment import SentimentIntensityAnalyzer\n",
    "\n",
    "sia = SentimentIntensityAnalyzer()"
   ]
  },
  {
   "cell_type": "code",
   "execution_count": 15,
   "id": "77290a6b",
   "metadata": {},
   "outputs": [
    {
     "data": {
      "text/plain": [
       "{'neg': 0.029, 'neu': 0.842, 'pos': 0.129, 'compound': 0.8397}"
      ]
     },
     "execution_count": 15,
     "metadata": {},
     "output_type": "execute_result"
    }
   ],
   "source": [
    "sia.polarity_scores(example)"
   ]
  },
  {
   "cell_type": "code",
   "execution_count": 16,
   "id": "94107853",
   "metadata": {},
   "outputs": [],
   "source": [
    "# Run the polarity score on the entire dataset\n",
    "res = {}\n",
    "for i, row in df.iterrows():\n",
    "    text = row['comment_content']\n",
    "    myid = row['index']\n",
    "    res[myid] = sia.polarity_scores(text)"
   ]
  },
  {
   "cell_type": "code",
   "execution_count": 17,
   "id": "61ac04d0",
   "metadata": {},
   "outputs": [],
   "source": [
    "vaders = pd.DataFrame(res).T\n",
    "vaders = vaders.reset_index().rename(columns={'index': 'index'})\n",
    "vaders = vaders.merge(df, how='left')"
   ]
  },
  {
   "cell_type": "code",
   "execution_count": 18,
   "id": "e77eeb97",
   "metadata": {},
   "outputs": [
    {
     "data": {
      "text/html": [
       "<div>\n",
       "<style scoped>\n",
       "    .dataframe tbody tr th:only-of-type {\n",
       "        vertical-align: middle;\n",
       "    }\n",
       "\n",
       "    .dataframe tbody tr th {\n",
       "        vertical-align: top;\n",
       "    }\n",
       "\n",
       "    .dataframe thead th {\n",
       "        text-align: right;\n",
       "    }\n",
       "</style>\n",
       "<table border=\"1\" class=\"dataframe\">\n",
       "  <thead>\n",
       "    <tr style=\"text-align: right;\">\n",
       "      <th></th>\n",
       "      <th>index</th>\n",
       "      <th>neg</th>\n",
       "      <th>neu</th>\n",
       "      <th>pos</th>\n",
       "      <th>compound</th>\n",
       "      <th>name</th>\n",
       "      <th>review_count</th>\n",
       "      <th>average_rating</th>\n",
       "      <th>overall_experience</th>\n",
       "      <th>rating</th>\n",
       "      <th>title</th>\n",
       "      <th>comment_content</th>\n",
       "      <th>date</th>\n",
       "      <th>hotel_class</th>\n",
       "      <th>good_to_know</th>\n",
       "    </tr>\n",
       "  </thead>\n",
       "  <tbody>\n",
       "    <tr>\n",
       "      <th>0</th>\n",
       "      <td>0</td>\n",
       "      <td>0.000</td>\n",
       "      <td>0.752</td>\n",
       "      <td>0.248</td>\n",
       "      <td>0.9644</td>\n",
       "      <td>Oxford Hotel</td>\n",
       "      <td>178 reviews</td>\n",
       "      <td>2.5</td>\n",
       "      <td>[3.9, 2.5, 2.6, 2.2]</td>\n",
       "      <td>5</td>\n",
       "      <td>Best Among the Budget-friendly Hotels in SG</td>\n",
       "      <td>I love this hotel! Its in a quiet and peaceful...</td>\n",
       "      <td>Date of stay: July 2023</td>\n",
       "      <td>3.0 of 5 stars</td>\n",
       "      <td>['', 'English, Chinese, Filipino, Malay']</td>\n",
       "    </tr>\n",
       "    <tr>\n",
       "      <th>1</th>\n",
       "      <td>1</td>\n",
       "      <td>0.080</td>\n",
       "      <td>0.718</td>\n",
       "      <td>0.202</td>\n",
       "      <td>0.6801</td>\n",
       "      <td>Oxford Hotel</td>\n",
       "      <td>178 reviews</td>\n",
       "      <td>2.5</td>\n",
       "      <td>[3.9, 2.5, 2.6, 2.2]</td>\n",
       "      <td>4</td>\n",
       "      <td>Good Location for Travel around Singapore Center</td>\n",
       "      <td>Convenience near MRT Station and Bus Stops, Le...</td>\n",
       "      <td>Date of stay: June 2023</td>\n",
       "      <td>3.0 of 5 stars</td>\n",
       "      <td>['', 'English, Chinese, Filipino, Malay']</td>\n",
       "    </tr>\n",
       "    <tr>\n",
       "      <th>2</th>\n",
       "      <td>2</td>\n",
       "      <td>0.000</td>\n",
       "      <td>0.812</td>\n",
       "      <td>0.188</td>\n",
       "      <td>0.9909</td>\n",
       "      <td>Oxford Hotel</td>\n",
       "      <td>178 reviews</td>\n",
       "      <td>2.5</td>\n",
       "      <td>[3.9, 2.5, 2.6, 2.2]</td>\n",
       "      <td>4</td>\n",
       "      <td>I guess I'm one of the lucky ones!</td>\n",
       "      <td>After seeing some of these reviews, I was some...</td>\n",
       "      <td>Date of stay: February 2023</td>\n",
       "      <td>3.0 of 5 stars</td>\n",
       "      <td>['', 'English, Chinese, Filipino, Malay']</td>\n",
       "    </tr>\n",
       "    <tr>\n",
       "      <th>3</th>\n",
       "      <td>3</td>\n",
       "      <td>0.156</td>\n",
       "      <td>0.801</td>\n",
       "      <td>0.044</td>\n",
       "      <td>-0.8305</td>\n",
       "      <td>Oxford Hotel</td>\n",
       "      <td>178 reviews</td>\n",
       "      <td>2.5</td>\n",
       "      <td>[3.9, 2.5, 2.6, 2.2]</td>\n",
       "      <td>1</td>\n",
       "      <td>Hotel to avoid for SLEEPLESS nights !</td>\n",
       "      <td>in Jan, 2023, I stayed for 2 nights @ Budget O...</td>\n",
       "      <td>Date of stay: January 2023</td>\n",
       "      <td>3.0 of 5 stars</td>\n",
       "      <td>['', 'English, Chinese, Filipino, Malay']</td>\n",
       "    </tr>\n",
       "    <tr>\n",
       "      <th>4</th>\n",
       "      <td>4</td>\n",
       "      <td>0.135</td>\n",
       "      <td>0.711</td>\n",
       "      <td>0.154</td>\n",
       "      <td>0.4588</td>\n",
       "      <td>Oxford Hotel</td>\n",
       "      <td>178 reviews</td>\n",
       "      <td>2.5</td>\n",
       "      <td>[3.9, 2.5, 2.6, 2.2]</td>\n",
       "      <td>2</td>\n",
       "      <td>Not a good place if you need to work</td>\n",
       "      <td>For such a high cost you'd expect functional W...</td>\n",
       "      <td>Date of stay: November 2022</td>\n",
       "      <td>3.0 of 5 stars</td>\n",
       "      <td>['', 'English, Chinese, Filipino, Malay']</td>\n",
       "    </tr>\n",
       "    <tr>\n",
       "      <th>...</th>\n",
       "      <td>...</td>\n",
       "      <td>...</td>\n",
       "      <td>...</td>\n",
       "      <td>...</td>\n",
       "      <td>...</td>\n",
       "      <td>...</td>\n",
       "      <td>...</td>\n",
       "      <td>...</td>\n",
       "      <td>...</td>\n",
       "      <td>...</td>\n",
       "      <td>...</td>\n",
       "      <td>...</td>\n",
       "      <td>...</td>\n",
       "      <td>...</td>\n",
       "      <td>...</td>\n",
       "    </tr>\n",
       "    <tr>\n",
       "      <th>22004</th>\n",
       "      <td>22004</td>\n",
       "      <td>0.017</td>\n",
       "      <td>0.801</td>\n",
       "      <td>0.182</td>\n",
       "      <td>0.9747</td>\n",
       "      <td>Spacepod@SG</td>\n",
       "      <td>20 reviews</td>\n",
       "      <td>3.5</td>\n",
       "      <td>[1.0, 3.0, 3.0]</td>\n",
       "      <td>5</td>\n",
       "      <td>Easy comfortable cheap</td>\n",
       "      <td>I booked with this place to experience a capsu...</td>\n",
       "      <td>Date of stay: June 2019</td>\n",
       "      <td>2.0 of 5 stars</td>\n",
       "      <td>['', 'Budget', 'English, Chinese']</td>\n",
       "    </tr>\n",
       "    <tr>\n",
       "      <th>22005</th>\n",
       "      <td>22005</td>\n",
       "      <td>0.000</td>\n",
       "      <td>0.734</td>\n",
       "      <td>0.266</td>\n",
       "      <td>0.9635</td>\n",
       "      <td>Spacepod@SG</td>\n",
       "      <td>20 reviews</td>\n",
       "      <td>3.5</td>\n",
       "      <td>[1.0, 3.0, 3.0]</td>\n",
       "      <td>5</td>\n",
       "      <td>Awesome place to stay!</td>\n",
       "      <td>It's my first time to stay in capsule hotel an...</td>\n",
       "      <td>Date of stay: November 2018</td>\n",
       "      <td>2.0 of 5 stars</td>\n",
       "      <td>['', 'Budget', 'English, Chinese']</td>\n",
       "    </tr>\n",
       "    <tr>\n",
       "      <th>22006</th>\n",
       "      <td>22006</td>\n",
       "      <td>0.000</td>\n",
       "      <td>0.638</td>\n",
       "      <td>0.362</td>\n",
       "      <td>0.9876</td>\n",
       "      <td>Spacepod@SG</td>\n",
       "      <td>20 reviews</td>\n",
       "      <td>3.5</td>\n",
       "      <td>[1.0, 3.0, 3.0]</td>\n",
       "      <td>5</td>\n",
       "      <td>Worth every pennies</td>\n",
       "      <td>The receptionist ladies (Rachel and Joey) were...</td>\n",
       "      <td>Date of stay: November 2018</td>\n",
       "      <td>2.0 of 5 stars</td>\n",
       "      <td>['', 'Budget', 'English, Chinese']</td>\n",
       "    </tr>\n",
       "    <tr>\n",
       "      <th>22007</th>\n",
       "      <td>22007</td>\n",
       "      <td>0.047</td>\n",
       "      <td>0.727</td>\n",
       "      <td>0.227</td>\n",
       "      <td>0.9756</td>\n",
       "      <td>Spacepod@SG</td>\n",
       "      <td>20 reviews</td>\n",
       "      <td>3.5</td>\n",
       "      <td>[1.0, 3.0, 3.0]</td>\n",
       "      <td>3</td>\n",
       "      <td>Unique yet weird place to stay</td>\n",
       "      <td>Okay. What was my consideration to stay here? ...</td>\n",
       "      <td>Date of stay: October 2018</td>\n",
       "      <td>2.0 of 5 stars</td>\n",
       "      <td>['', 'Budget', 'English, Chinese']</td>\n",
       "    </tr>\n",
       "    <tr>\n",
       "      <th>22008</th>\n",
       "      <td>22008</td>\n",
       "      <td>0.000</td>\n",
       "      <td>0.856</td>\n",
       "      <td>0.144</td>\n",
       "      <td>0.8634</td>\n",
       "      <td>Spacepod@SG</td>\n",
       "      <td>20 reviews</td>\n",
       "      <td>3.5</td>\n",
       "      <td>[1.0, 3.0, 3.0]</td>\n",
       "      <td>4</td>\n",
       "      <td>Futuristic Capsule Hotel</td>\n",
       "      <td>Located near the Bus and MRT Station Kallang m...</td>\n",
       "      <td>Date of stay: October 2018</td>\n",
       "      <td>2.0 of 5 stars</td>\n",
       "      <td>['', 'Budget', 'English, Chinese']</td>\n",
       "    </tr>\n",
       "  </tbody>\n",
       "</table>\n",
       "<p>22009 rows × 15 columns</p>\n",
       "</div>"
      ],
      "text/plain": [
       "       index    neg    neu    pos  compound          name review_count  \\\n",
       "0          0  0.000  0.752  0.248    0.9644  Oxford Hotel  178 reviews   \n",
       "1          1  0.080  0.718  0.202    0.6801  Oxford Hotel  178 reviews   \n",
       "2          2  0.000  0.812  0.188    0.9909  Oxford Hotel  178 reviews   \n",
       "3          3  0.156  0.801  0.044   -0.8305  Oxford Hotel  178 reviews   \n",
       "4          4  0.135  0.711  0.154    0.4588  Oxford Hotel  178 reviews   \n",
       "...      ...    ...    ...    ...       ...           ...          ...   \n",
       "22004  22004  0.017  0.801  0.182    0.9747   Spacepod@SG   20 reviews   \n",
       "22005  22005  0.000  0.734  0.266    0.9635   Spacepod@SG   20 reviews   \n",
       "22006  22006  0.000  0.638  0.362    0.9876   Spacepod@SG   20 reviews   \n",
       "22007  22007  0.047  0.727  0.227    0.9756   Spacepod@SG   20 reviews   \n",
       "22008  22008  0.000  0.856  0.144    0.8634   Spacepod@SG   20 reviews   \n",
       "\n",
       "       average_rating    overall_experience  rating  \\\n",
       "0                 2.5  [3.9, 2.5, 2.6, 2.2]       5   \n",
       "1                 2.5  [3.9, 2.5, 2.6, 2.2]       4   \n",
       "2                 2.5  [3.9, 2.5, 2.6, 2.2]       4   \n",
       "3                 2.5  [3.9, 2.5, 2.6, 2.2]       1   \n",
       "4                 2.5  [3.9, 2.5, 2.6, 2.2]       2   \n",
       "...               ...                   ...     ...   \n",
       "22004             3.5       [1.0, 3.0, 3.0]       5   \n",
       "22005             3.5       [1.0, 3.0, 3.0]       5   \n",
       "22006             3.5       [1.0, 3.0, 3.0]       5   \n",
       "22007             3.5       [1.0, 3.0, 3.0]       3   \n",
       "22008             3.5       [1.0, 3.0, 3.0]       4   \n",
       "\n",
       "                                                  title  \\\n",
       "0           Best Among the Budget-friendly Hotels in SG   \n",
       "1      Good Location for Travel around Singapore Center   \n",
       "2                    I guess I'm one of the lucky ones!   \n",
       "3                 Hotel to avoid for SLEEPLESS nights !   \n",
       "4                  Not a good place if you need to work   \n",
       "...                                                 ...   \n",
       "22004                            Easy comfortable cheap   \n",
       "22005                            Awesome place to stay!   \n",
       "22006                               Worth every pennies   \n",
       "22007                    Unique yet weird place to stay   \n",
       "22008                          Futuristic Capsule Hotel   \n",
       "\n",
       "                                         comment_content  \\\n",
       "0      I love this hotel! Its in a quiet and peaceful...   \n",
       "1      Convenience near MRT Station and Bus Stops, Le...   \n",
       "2      After seeing some of these reviews, I was some...   \n",
       "3      in Jan, 2023, I stayed for 2 nights @ Budget O...   \n",
       "4      For such a high cost you'd expect functional W...   \n",
       "...                                                  ...   \n",
       "22004  I booked with this place to experience a capsu...   \n",
       "22005  It's my first time to stay in capsule hotel an...   \n",
       "22006  The receptionist ladies (Rachel and Joey) were...   \n",
       "22007  Okay. What was my consideration to stay here? ...   \n",
       "22008  Located near the Bus and MRT Station Kallang m...   \n",
       "\n",
       "                              date     hotel_class  \\\n",
       "0          Date of stay: July 2023  3.0 of 5 stars   \n",
       "1          Date of stay: June 2023  3.0 of 5 stars   \n",
       "2      Date of stay: February 2023  3.0 of 5 stars   \n",
       "3       Date of stay: January 2023  3.0 of 5 stars   \n",
       "4      Date of stay: November 2022  3.0 of 5 stars   \n",
       "...                            ...             ...   \n",
       "22004      Date of stay: June 2019  2.0 of 5 stars   \n",
       "22005  Date of stay: November 2018  2.0 of 5 stars   \n",
       "22006  Date of stay: November 2018  2.0 of 5 stars   \n",
       "22007   Date of stay: October 2018  2.0 of 5 stars   \n",
       "22008   Date of stay: October 2018  2.0 of 5 stars   \n",
       "\n",
       "                                    good_to_know  \n",
       "0      ['', 'English, Chinese, Filipino, Malay']  \n",
       "1      ['', 'English, Chinese, Filipino, Malay']  \n",
       "2      ['', 'English, Chinese, Filipino, Malay']  \n",
       "3      ['', 'English, Chinese, Filipino, Malay']  \n",
       "4      ['', 'English, Chinese, Filipino, Malay']  \n",
       "...                                          ...  \n",
       "22004         ['', 'Budget', 'English, Chinese']  \n",
       "22005         ['', 'Budget', 'English, Chinese']  \n",
       "22006         ['', 'Budget', 'English, Chinese']  \n",
       "22007         ['', 'Budget', 'English, Chinese']  \n",
       "22008         ['', 'Budget', 'English, Chinese']  \n",
       "\n",
       "[22009 rows x 15 columns]"
      ]
     },
     "execution_count": 18,
     "metadata": {},
     "output_type": "execute_result"
    }
   ],
   "source": [
    "vaders"
   ]
  },
  {
   "cell_type": "markdown",
   "id": "e86defb1",
   "metadata": {},
   "source": [
    "# vader reusults"
   ]
  },
  {
   "cell_type": "code",
   "execution_count": 19,
   "id": "e05dd64b",
   "metadata": {},
   "outputs": [
    {
     "data": {
      "image/png": "[encoded data removed]",
      "text/plain": [
       "<Figure size 640x480 with 1 Axes>"
      ]
     },
     "metadata": {},
     "output_type": "display_data"
    }
   ],
   "source": [
    "ax = sns.barplot(data=vaders, x='rating', y='compound', errorbar=None)\n",
    "ax.set_title('Compund Score by rating')\n",
    "plt.show()"
   ]
  },
  {
   "cell_type": "code",
   "execution_count": 20,
   "id": "cbb2149d",
   "metadata": {
    "scrolled": true
   },
   "outputs": [
    {
     "data": {
      "image/png": "[encoded data removed]",
      "text/plain": [
       "<Figure size 1200x300 with 3 Axes>"
      ]
     },
     "metadata": {},
     "output_type": "display_data"
    }
   ],
   "source": [
    "fig, axs = plt.subplots(1, 3, figsize=(12, 3))\n",
    "sns.barplot(data=vaders, x='rating', y='pos', ax=axs[0], errorbar=None)\n",
    "sns.barplot(data=vaders, x='rating', y='neu', ax=axs[1], errorbar=None)\n",
    "sns.barplot(data=vaders, x='rating', y='neg', ax=axs[2], errorbar=None)\n",
    "axs[0].set_title('Positive')\n",
    "axs[1].set_title('Neutral')\n",
    "axs[2].set_title('Negative')\n",
    "plt.tight_layout()\n",
    "plt.show()"
   ]
  },
  {
   "cell_type": "markdown",
   "id": "858ed4a1",
   "metadata": {},
   "source": [
    "this shows that vader is valuble in having this connection betwwen the sentiment score of the text and the rating"
   ]
  },
  {
   "cell_type": "markdown",
   "id": "3a096929",
   "metadata": {},
   "source": [
    "# however, vader does not pick up on sarcasm, we have transformer deep learning models that can pick up those context"
   ]
  },
  {
   "cell_type": "code",
   "execution_count": null,
   "id": "3b34f9b9",
   "metadata": {},
   "outputs": [],
   "source": [
    "from transformers import AutoTokenizer\n",
    "from transformers import AutoModelForSequenceClassification\n",
    "from scipy.special import softmax"
   ]
  },
  {
   "cell_type": "code",
   "execution_count": null,
   "id": "3c5c97af",
   "metadata": {},
   "outputs": [],
   "source": [
    "MODEL = f\"cardiffnlp/twitter-roberta-base-sentiment\"\n",
    "tokenizer = AutoTokenizer.from_pretrained(MODEL)\n",
    "model = AutoModelForSequenceClassification.from_pretrained(MODEL)"
   ]
  },
  {
   "cell_type": "code",
   "execution_count": null,
   "id": "5f0a060c",
   "metadata": {},
   "outputs": [],
   "source": [
    "# VADER \n",
    "print(example)\n",
    "sia.polarity_scores(example)"
   ]
  },
  {
   "cell_type": "code",
   "execution_count": null,
   "id": "7110cdd4-3519-40d8-972d-68ac1b8a31d0",
   "metadata": {},
   "outputs": [],
   "source": [
    "# Roberta Model\n",
    "encoded_text = tokenizer(example, return_tensors='pt')\n",
    "output = model(**encoded_text)\n",
    "scores = output[0][0].detach().numpy()\n",
    "scores = softmax(scores)\n",
    "scores_dict = {\n",
    "    'roberta_neg' : scores[0],\n",
    "    'roberta_neu' : scores[1],\n",
    "    'roberta_pos' : scores[2]\n",
    "}\n",
    "print(scores_dict)"
   ]
  },
  {
   "cell_type": "code",
   "execution_count": null,
   "id": "94387b7d-c12a-426a-87ef-c9ce220dce39",
   "metadata": {},
   "outputs": [],
   "source": [
    "def polarity_scores_roberta(example):\n",
    "    encoded_text = tokenizer(example, return_tensors='pt')\n",
    "    output = model(**encoded_text)\n",
    "    scores = output[0][0].detach().numpy()\n",
    "    scores = softmax(scores)\n",
    "    scores_dict = {\n",
    "        'roberta_neg' : scores[0],\n",
    "        'roberta_neu' : scores[1],\n",
    "        'roberta_pos' : scores[2]\n",
    "    }\n",
    "    return scores_dict"
   ]
  },
  {
   "cell_type": "code",
   "execution_count": null,
   "id": "97c7260f-62db-4b54-9514-313d151abb78",
   "metadata": {},
   "outputs": [],
   "source": [
    "res = {}\n",
    "\n",
    "for i, row in df.iterrows():\n",
    "    try:\n",
    "        text = row['comment_content']\n",
    "        \n",
    "        # Perform VADER sentiment analysis\n",
    "        vader_result = sia.polarity_scores(text)\n",
    "        vader_result_rename = {}\n",
    "        for key, value in vader_result.items():\n",
    "            vader_result_rename[f\"vader_{key}\"] = value\n",
    "        \n",
    "        # Perform sentiment analysis using 'polarity_scores_roberta' function\n",
    "        # You should define this function separately if you haven't already\n",
    "        roberta_result = polarity_scores_roberta(text) \n",
    "        \n",
    "        # Combine the results from both methods into one dictionary\n",
    "        both = {**vader_result_rename, **roberta_result}\n",
    "        res[i] = both\n",
    "    except RuntimeError:\n",
    "        print(f'Broke for id {i}')\n",
    "\n",
    "# Display the results\n",
    "print(res)"
   ]
  },
  {
   "cell_type": "code",
   "execution_count": null,
   "id": "bd6b395d-329d-40c9-b6d6-ca027058548e",
   "metadata": {
    "scrolled": true
   },
   "outputs": [],
   "source": [
    "df.iloc[[162]]"
   ]
  },
  {
   "cell_type": "code",
   "execution_count": null,
   "id": "1d63be85-6aa8-428f-acc6-41b826e8881a",
   "metadata": {},
   "outputs": [],
   "source": [
    "pd.set_option('display.max_colwidth', None)"
   ]
  },
  {
   "cell_type": "code",
   "execution_count": null,
   "id": "019cafbb-8bf1-4284-9d47-275d524a1f2d",
   "metadata": {},
   "outputs": [],
   "source": []
  }
 ],
 "metadata": {
  "kernelspec": {
   "display_name": "venv",
   "language": "python",
   "name": "venv"
  },
  "language_info": {
   "codemirror_mode": {
    "name": "ipython",
    "version": 3
   },
   "file_extension": ".py",
   "mimetype": "text/x-python",
   "name": "python",
   "nbconvert_exporter": "python",
   "pygments_lexer": "ipython3",
   "version": "3.11.4"
  }
 },
 "nbformat": 4,
 "nbformat_minor": 5
}
